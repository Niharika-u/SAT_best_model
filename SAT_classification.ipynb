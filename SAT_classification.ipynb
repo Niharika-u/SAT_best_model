{
  "nbformat": 4,
  "nbformat_minor": 0,
  "metadata": {
    "colab": {
      "provenance": [],
      "toc_visible": true
    },
    "kernelspec": {
      "name": "python3",
      "display_name": "Python 3"
    },
    "language_info": {
      "name": "python"
    }
  },
  "cells": [
    {
      "cell_type": "markdown",
      "source": [
        "\n",
        "\n",
        "### Objective\n",
        "\n",
        "The Boolean satisfiability (SAT) problem consists in determining whether a Boolean formula F is satisfiable or not. F is represented by a pair (X, C), where X is a set of Boolean variables and C is a set of clauses in Conjunctive Normal Form (CNF). Each clause is a disjunction of literals (a variable or its negation). This problem is one of the most widely studied combinatorial problems in computer science. It is the classic NP-complete problem. Over the past number of decades, a significant amount of research work has focused on solving SAT problems with both complete and incomplete solvers.\n",
        "\n",
        "One of the most successful approaches is an algorithm portfolio, where a solver is selected among a set of candidates depending on the problem type. Your task is to create a classifier that takes as input the SAT instance's features and identifies the class.\n",
        "\n",
        "In this project, we represent SAT problems with a vector of 327 features with general information about the problem, e.g., number of variables, number of clauses, the fraction of horn clauses in the problem, etc.\n",
        "\n",
        "\n",
        "The original dataset is available at:\n",
        "https://github.com/bprovanbessell/SATfeatPy/blob/main/features_csv/all_features.csv\n",
        "\n"
      ],
      "metadata": {
        "id": "8WfrCFmLHxYu"
      }
    },
    {
      "cell_type": "markdown",
      "source": [
        "## Data Preparation"
      ],
      "metadata": {
        "id": "Oav9G1WSJ1nH"
      }
    },
    {
      "cell_type": "code",
      "source": [
        "import numpy as np\n",
        "import pandas as pd\n",
        "from sklearn.model_selection import train_test_split\n",
        "from sklearn.pipeline import Pipeline\n",
        "from sklearn.model_selection import GridSearchCV, KFold\n",
        "from sklearn.feature_selection import SelectKBest, f_classif, SelectFromModel, VarianceThreshold\n",
        "from pandas.core.common import random_state\n",
        "from sklearn.linear_model import Lasso\n",
        "from xgboost import XGBClassifier\n",
        "from sklearn.decomposition import PCA\n",
        "from sklearn.preprocessing import StandardScaler, LabelEncoder, OneHotEncoder\n",
        "from sklearn.svm import SVC\n",
        "from sklearn.model_selection import train_test_split, GridSearchCV, cross_val_score\n",
        "from sklearn.ensemble import RandomForestClassifier, GradientBoostingClassifier, AdaBoostClassifier\n",
        "from sklearn.neighbors import KNeighborsClassifier\n",
        "from sklearn.metrics import accuracy_score\n",
        "import warnings\n",
        "warnings.filterwarnings(\"ignore\")"
      ],
      "metadata": {
        "id": "Dz9K1QKRB1xW"
      },
      "execution_count": null,
      "outputs": []
    },
    {
      "cell_type": "code",
      "source": [
        "df = pd.read_csv(\"https://raw.githubusercontent.com/andvise/DataAnalyticsDatasets/main/train_dataset.csv\", index_col=0)\n",
        "df.head()"
      ],
      "metadata": {
        "colab": {
          "base_uri": "https://localhost:8080/",
          "height": 386
        },
        "id": "DE0kM0QsJ1En",
        "outputId": "6367bec8-83d3-4fe0-ba86-24891ec8f7dc"
      },
      "execution_count": null,
      "outputs": [
        {
          "output_type": "execute_result",
          "data": {
            "text/plain": [
              "     c    v  clauses_vars_ratio  vars_clauses_ratio  vcg_var_mean  \\\n",
              "0  608   71            8.563380            0.116776      0.045172   \n",
              "1  615   70            8.785714            0.113821      0.049617   \n",
              "2  926  105            8.819048            0.113391      0.033385   \n",
              "3  603   70            8.614286            0.116086      0.049799   \n",
              "4  228   43            5.302326            0.188596      0.067319   \n",
              "\n",
              "   vcg_var_coeff  vcg_var_min  vcg_var_max  vcg_var_entropy  vcg_clause_mean  \\\n",
              "0       0.173688     0.029605     0.060855         2.802758         0.045172   \n",
              "1       0.168633     0.032520     0.069919         2.607264         0.049617   \n",
              "2       0.186444     0.017279     0.047516         3.022879         0.033385   \n",
              "3       0.133441     0.033167     0.063018         2.688342         0.049799   \n",
              "4       0.162581     0.048246     0.087719         2.203308         0.067319   \n",
              "\n",
              "   ...  rwh_0_max   rwh_1_mean  rwh_1_coeff     rwh_1_min    rwh_1_max  \\\n",
              "0  ...  5078250.0  1056.695041     1.000000  2.981935e-09  2113.390083   \n",
              "1  ...  5469376.0  1207.488426     1.000000  6.927306e-28  2414.976852   \n",
              "2  ...  4297025.0   441.327046     1.000000  1.194627e-76   882.654092   \n",
              "3  ...  6640651.0  1181.583331     1.000000  2.437278e-30  2363.166661   \n",
              "4  ...  2437500.0  1091.423921     0.999966  3.723599e-02  2182.810606   \n",
              "\n",
              "    rwh_2_mean  rwh_2_coeff      rwh_2_min    rwh_2_max    target  \n",
              "0  1081.900778          1.0   1.302080e-29  2163.801556  matching  \n",
              "1  1186.623627          1.0  3.491123e-120  2373.247255  matching  \n",
              "2   474.697562          1.0   0.000000e+00   949.395124  matching  \n",
              "3  1149.059132          1.0  4.670090e-147  2298.118264  matching  \n",
              "4  1296.888087          1.0   6.307424e-06  2593.776167  matching  \n",
              "\n",
              "[5 rows x 328 columns]"
            ],
            "text/html": [
              "\n",
              "  <div id=\"df-8d9363bd-2d35-4211-b230-7cd1b1def7d3\">\n",
              "    <div class=\"colab-df-container\">\n",
              "      <div>\n",
              "<style scoped>\n",
              "    .dataframe tbody tr th:only-of-type {\n",
              "        vertical-align: middle;\n",
              "    }\n",
              "\n",
              "    .dataframe tbody tr th {\n",
              "        vertical-align: top;\n",
              "    }\n",
              "\n",
              "    .dataframe thead th {\n",
              "        text-align: right;\n",
              "    }\n",
              "</style>\n",
              "<table border=\"1\" class=\"dataframe\">\n",
              "  <thead>\n",
              "    <tr style=\"text-align: right;\">\n",
              "      <th></th>\n",
              "      <th>c</th>\n",
              "      <th>v</th>\n",
              "      <th>clauses_vars_ratio</th>\n",
              "      <th>vars_clauses_ratio</th>\n",
              "      <th>vcg_var_mean</th>\n",
              "      <th>vcg_var_coeff</th>\n",
              "      <th>vcg_var_min</th>\n",
              "      <th>vcg_var_max</th>\n",
              "      <th>vcg_var_entropy</th>\n",
              "      <th>vcg_clause_mean</th>\n",
              "      <th>...</th>\n",
              "      <th>rwh_0_max</th>\n",
              "      <th>rwh_1_mean</th>\n",
              "      <th>rwh_1_coeff</th>\n",
              "      <th>rwh_1_min</th>\n",
              "      <th>rwh_1_max</th>\n",
              "      <th>rwh_2_mean</th>\n",
              "      <th>rwh_2_coeff</th>\n",
              "      <th>rwh_2_min</th>\n",
              "      <th>rwh_2_max</th>\n",
              "      <th>target</th>\n",
              "    </tr>\n",
              "  </thead>\n",
              "  <tbody>\n",
              "    <tr>\n",
              "      <th>0</th>\n",
              "      <td>608</td>\n",
              "      <td>71</td>\n",
              "      <td>8.563380</td>\n",
              "      <td>0.116776</td>\n",
              "      <td>0.045172</td>\n",
              "      <td>0.173688</td>\n",
              "      <td>0.029605</td>\n",
              "      <td>0.060855</td>\n",
              "      <td>2.802758</td>\n",
              "      <td>0.045172</td>\n",
              "      <td>...</td>\n",
              "      <td>5078250.0</td>\n",
              "      <td>1056.695041</td>\n",
              "      <td>1.000000</td>\n",
              "      <td>2.981935e-09</td>\n",
              "      <td>2113.390083</td>\n",
              "      <td>1081.900778</td>\n",
              "      <td>1.0</td>\n",
              "      <td>1.302080e-29</td>\n",
              "      <td>2163.801556</td>\n",
              "      <td>matching</td>\n",
              "    </tr>\n",
              "    <tr>\n",
              "      <th>1</th>\n",
              "      <td>615</td>\n",
              "      <td>70</td>\n",
              "      <td>8.785714</td>\n",
              "      <td>0.113821</td>\n",
              "      <td>0.049617</td>\n",
              "      <td>0.168633</td>\n",
              "      <td>0.032520</td>\n",
              "      <td>0.069919</td>\n",
              "      <td>2.607264</td>\n",
              "      <td>0.049617</td>\n",
              "      <td>...</td>\n",
              "      <td>5469376.0</td>\n",
              "      <td>1207.488426</td>\n",
              "      <td>1.000000</td>\n",
              "      <td>6.927306e-28</td>\n",
              "      <td>2414.976852</td>\n",
              "      <td>1186.623627</td>\n",
              "      <td>1.0</td>\n",
              "      <td>3.491123e-120</td>\n",
              "      <td>2373.247255</td>\n",
              "      <td>matching</td>\n",
              "    </tr>\n",
              "    <tr>\n",
              "      <th>2</th>\n",
              "      <td>926</td>\n",
              "      <td>105</td>\n",
              "      <td>8.819048</td>\n",
              "      <td>0.113391</td>\n",
              "      <td>0.033385</td>\n",
              "      <td>0.186444</td>\n",
              "      <td>0.017279</td>\n",
              "      <td>0.047516</td>\n",
              "      <td>3.022879</td>\n",
              "      <td>0.033385</td>\n",
              "      <td>...</td>\n",
              "      <td>4297025.0</td>\n",
              "      <td>441.327046</td>\n",
              "      <td>1.000000</td>\n",
              "      <td>1.194627e-76</td>\n",
              "      <td>882.654092</td>\n",
              "      <td>474.697562</td>\n",
              "      <td>1.0</td>\n",
              "      <td>0.000000e+00</td>\n",
              "      <td>949.395124</td>\n",
              "      <td>matching</td>\n",
              "    </tr>\n",
              "    <tr>\n",
              "      <th>3</th>\n",
              "      <td>603</td>\n",
              "      <td>70</td>\n",
              "      <td>8.614286</td>\n",
              "      <td>0.116086</td>\n",
              "      <td>0.049799</td>\n",
              "      <td>0.133441</td>\n",
              "      <td>0.033167</td>\n",
              "      <td>0.063018</td>\n",
              "      <td>2.688342</td>\n",
              "      <td>0.049799</td>\n",
              "      <td>...</td>\n",
              "      <td>6640651.0</td>\n",
              "      <td>1181.583331</td>\n",
              "      <td>1.000000</td>\n",
              "      <td>2.437278e-30</td>\n",
              "      <td>2363.166661</td>\n",
              "      <td>1149.059132</td>\n",
              "      <td>1.0</td>\n",
              "      <td>4.670090e-147</td>\n",
              "      <td>2298.118264</td>\n",
              "      <td>matching</td>\n",
              "    </tr>\n",
              "    <tr>\n",
              "      <th>4</th>\n",
              "      <td>228</td>\n",
              "      <td>43</td>\n",
              "      <td>5.302326</td>\n",
              "      <td>0.188596</td>\n",
              "      <td>0.067319</td>\n",
              "      <td>0.162581</td>\n",
              "      <td>0.048246</td>\n",
              "      <td>0.087719</td>\n",
              "      <td>2.203308</td>\n",
              "      <td>0.067319</td>\n",
              "      <td>...</td>\n",
              "      <td>2437500.0</td>\n",
              "      <td>1091.423921</td>\n",
              "      <td>0.999966</td>\n",
              "      <td>3.723599e-02</td>\n",
              "      <td>2182.810606</td>\n",
              "      <td>1296.888087</td>\n",
              "      <td>1.0</td>\n",
              "      <td>6.307424e-06</td>\n",
              "      <td>2593.776167</td>\n",
              "      <td>matching</td>\n",
              "    </tr>\n",
              "  </tbody>\n",
              "</table>\n",
              "<p>5 rows × 328 columns</p>\n",
              "</div>\n",
              "      <button class=\"colab-df-convert\" onclick=\"convertToInteractive('df-8d9363bd-2d35-4211-b230-7cd1b1def7d3')\"\n",
              "              title=\"Convert this dataframe to an interactive table.\"\n",
              "              style=\"display:none;\">\n",
              "        \n",
              "  <svg xmlns=\"http://www.w3.org/2000/svg\" height=\"24px\"viewBox=\"0 0 24 24\"\n",
              "       width=\"24px\">\n",
              "    <path d=\"M0 0h24v24H0V0z\" fill=\"none\"/>\n",
              "    <path d=\"M18.56 5.44l.94 2.06.94-2.06 2.06-.94-2.06-.94-.94-2.06-.94 2.06-2.06.94zm-11 1L8.5 8.5l.94-2.06 2.06-.94-2.06-.94L8.5 2.5l-.94 2.06-2.06.94zm10 10l.94 2.06.94-2.06 2.06-.94-2.06-.94-.94-2.06-.94 2.06-2.06.94z\"/><path d=\"M17.41 7.96l-1.37-1.37c-.4-.4-.92-.59-1.43-.59-.52 0-1.04.2-1.43.59L10.3 9.45l-7.72 7.72c-.78.78-.78 2.05 0 2.83L4 21.41c.39.39.9.59 1.41.59.51 0 1.02-.2 1.41-.59l7.78-7.78 2.81-2.81c.8-.78.8-2.07 0-2.86zM5.41 20L4 18.59l7.72-7.72 1.47 1.35L5.41 20z\"/>\n",
              "  </svg>\n",
              "      </button>\n",
              "      \n",
              "  <style>\n",
              "    .colab-df-container {\n",
              "      display:flex;\n",
              "      flex-wrap:wrap;\n",
              "      gap: 12px;\n",
              "    }\n",
              "\n",
              "    .colab-df-convert {\n",
              "      background-color: #E8F0FE;\n",
              "      border: none;\n",
              "      border-radius: 50%;\n",
              "      cursor: pointer;\n",
              "      display: none;\n",
              "      fill: #1967D2;\n",
              "      height: 32px;\n",
              "      padding: 0 0 0 0;\n",
              "      width: 32px;\n",
              "    }\n",
              "\n",
              "    .colab-df-convert:hover {\n",
              "      background-color: #E2EBFA;\n",
              "      box-shadow: 0px 1px 2px rgba(60, 64, 67, 0.3), 0px 1px 3px 1px rgba(60, 64, 67, 0.15);\n",
              "      fill: #174EA6;\n",
              "    }\n",
              "\n",
              "    [theme=dark] .colab-df-convert {\n",
              "      background-color: #3B4455;\n",
              "      fill: #D2E3FC;\n",
              "    }\n",
              "\n",
              "    [theme=dark] .colab-df-convert:hover {\n",
              "      background-color: #434B5C;\n",
              "      box-shadow: 0px 1px 3px 1px rgba(0, 0, 0, 0.15);\n",
              "      filter: drop-shadow(0px 1px 2px rgba(0, 0, 0, 0.3));\n",
              "      fill: #FFFFFF;\n",
              "    }\n",
              "  </style>\n",
              "\n",
              "      <script>\n",
              "        const buttonEl =\n",
              "          document.querySelector('#df-8d9363bd-2d35-4211-b230-7cd1b1def7d3 button.colab-df-convert');\n",
              "        buttonEl.style.display =\n",
              "          google.colab.kernel.accessAllowed ? 'block' : 'none';\n",
              "\n",
              "        async function convertToInteractive(key) {\n",
              "          const element = document.querySelector('#df-8d9363bd-2d35-4211-b230-7cd1b1def7d3');\n",
              "          const dataTable =\n",
              "            await google.colab.kernel.invokeFunction('convertToInteractive',\n",
              "                                                     [key], {});\n",
              "          if (!dataTable) return;\n",
              "\n",
              "          const docLinkHtml = 'Like what you see? Visit the ' +\n",
              "            '<a target=\"_blank\" href=https://colab.research.google.com/notebooks/data_table.ipynb>data table notebook</a>'\n",
              "            + ' to learn more about interactive tables.';\n",
              "          element.innerHTML = '';\n",
              "          dataTable['output_type'] = 'display_data';\n",
              "          await google.colab.output.renderOutput(dataTable, element);\n",
              "          const docLink = document.createElement('div');\n",
              "          docLink.innerHTML = docLinkHtml;\n",
              "          element.appendChild(docLink);\n",
              "        }\n",
              "      </script>\n",
              "    </div>\n",
              "  </div>\n",
              "  "
            ]
          },
          "metadata": {},
          "execution_count": 2
        }
      ]
    },
    {
      "cell_type": "code",
      "source": [
        "# Label or target variable\n",
        "df['target'].value_counts()"
      ],
      "metadata": {
        "colab": {
          "base_uri": "https://localhost:8080/"
        },
        "id": "N8MCvTYTKw4Q",
        "outputId": "7f472514-2b58-4ab0-9ad2-fec1b7370c1a"
      },
      "execution_count": null,
      "outputs": [
        {
          "output_type": "execute_result",
          "data": {
            "text/plain": [
              "tseitin           298\n",
              "dominating        294\n",
              "cliquecoloring    268\n",
              "php               266\n",
              "subsetcard        263\n",
              "op                201\n",
              "tiling            120\n",
              "5clique           108\n",
              "3color            104\n",
              "matching          102\n",
              "5color             98\n",
              "4color             98\n",
              "3clique            98\n",
              "4clique            94\n",
              "Name: target, dtype: int64"
            ]
          },
          "metadata": {},
          "execution_count": 3
        }
      ]
    },
    {
      "cell_type": "code",
      "source": [
        "df.shape"
      ],
      "metadata": {
        "id": "tvBZH6ilInsA",
        "colab": {
          "base_uri": "https://localhost:8080/"
        },
        "outputId": "1f3445dc-fad5-4fb9-e070-97e30fad18e6"
      },
      "execution_count": null,
      "outputs": [
        {
          "output_type": "execute_result",
          "data": {
            "text/plain": [
              "(2412, 328)"
            ]
          },
          "metadata": {},
          "execution_count": 4
        }
      ]
    },
    {
      "cell_type": "code",
      "source": [
        "df.isna().sum().sum()"
      ],
      "metadata": {
        "colab": {
          "base_uri": "https://localhost:8080/"
        },
        "id": "cc16ajciBYxp",
        "outputId": "83011895-4307-4787-d444-2ebe4a7113fa"
      },
      "execution_count": null,
      "outputs": [
        {
          "output_type": "execute_result",
          "data": {
            "text/plain": [
              "19756"
            ]
          },
          "metadata": {},
          "execution_count": 5
        }
      ]
    },
    {
      "cell_type": "code",
      "source": [
        "df.isnull().sum().sum()"
      ],
      "metadata": {
        "colab": {
          "base_uri": "https://localhost:8080/"
        },
        "id": "U92X7xt4BcRZ",
        "outputId": "812a36f7-7ee5-4974-e271-afa726cfd5fb"
      },
      "execution_count": null,
      "outputs": [
        {
          "output_type": "execute_result",
          "data": {
            "text/plain": [
              "19756"
            ]
          },
          "metadata": {},
          "execution_count": 6
        }
      ]
    },
    {
      "cell_type": "code",
      "source": [
        "# FIND COLUMNS WHICH HAVE NULL VALUES AND ITS PERCENTAGE\n",
        "df.columns[df.isna().any()].tolist()\n",
        "missing_columns = df.columns[df.isna().any()].tolist()\n",
        "percent_missing = (df[missing_columns].isna().sum()/len(df))*100\n",
        "percent_missing"
      ],
      "metadata": {
        "colab": {
          "base_uri": "https://localhost:8080/"
        },
        "id": "DSla-0EcBf-4",
        "outputId": "7096c5d2-0687-4b94-b0c8-23df0fcd014c"
      },
      "execution_count": null,
      "outputs": [
        {
          "output_type": "execute_result",
          "data": {
            "text/plain": [
              "v_nd_p_weights_entropy    100.000000\n",
              "v_nd_n_weights_entropy    100.000000\n",
              "c_nd_p_weights_entropy    100.000000\n",
              "c_nd_n_weights_entropy    100.000000\n",
              "cg_al_node_entropy          0.082919\n",
              "cg_al_weights_entropy       0.082919\n",
              "rg_node_entropy             2.197347\n",
              "rg_weights_entropy          2.197347\n",
              "big_node_entropy           18.159204\n",
              "big_weights_entropy        18.159204\n",
              "and_node_entropy           40.381426\n",
              "and_weights_entropy        40.381426\n",
              "band_node_entropy          56.550580\n",
              "band_weights_entropy       56.550580\n",
              "exo_node_entropy           92.164179\n",
              "exo_weights_entropy        92.164179\n",
              "dtype: float64"
            ]
          },
          "metadata": {},
          "execution_count": 7
        }
      ]
    },
    {
      "cell_type": "code",
      "source": [
        "# Dropping all the columns having missing data above 40%\n",
        "cols_to_drop = percent_missing[percent_missing > 40]\n",
        "\n",
        "df_1 = df.drop(columns=list(cols_to_drop.index))\n",
        "df_1.shape"
      ],
      "metadata": {
        "colab": {
          "base_uri": "https://localhost:8080/"
        },
        "id": "pfksbNEjBww6",
        "outputId": "8ddbe8bb-75b2-4f4b-9a4f-85b630128cb4"
      },
      "execution_count": null,
      "outputs": [
        {
          "output_type": "execute_result",
          "data": {
            "text/plain": [
              "(2412, 318)"
            ]
          },
          "metadata": {},
          "execution_count": 8
        }
      ]
    },
    {
      "cell_type": "code",
      "source": [
        "print(cols_to_drop)"
      ],
      "metadata": {
        "colab": {
          "base_uri": "https://localhost:8080/"
        },
        "id": "1gq918W06YY8",
        "outputId": "eebc747c-10ff-4df7-b7b1-bfb57bf6a7cd"
      },
      "execution_count": null,
      "outputs": [
        {
          "output_type": "stream",
          "name": "stdout",
          "text": [
            "v_nd_p_weights_entropy    100.000000\n",
            "v_nd_n_weights_entropy    100.000000\n",
            "c_nd_p_weights_entropy    100.000000\n",
            "c_nd_n_weights_entropy    100.000000\n",
            "and_node_entropy           40.381426\n",
            "and_weights_entropy        40.381426\n",
            "band_node_entropy          56.550580\n",
            "band_weights_entropy       56.550580\n",
            "exo_node_entropy           92.164179\n",
            "exo_weights_entropy        92.164179\n",
            "dtype: float64\n"
          ]
        }
      ]
    },
    {
      "cell_type": "code",
      "source": [
        "df_1.shape"
      ],
      "metadata": {
        "colab": {
          "base_uri": "https://localhost:8080/"
        },
        "id": "Rxml574n6de_",
        "outputId": "e32877c8-0a73-489c-bc76-e7f1c8e8f833"
      },
      "execution_count": null,
      "outputs": [
        {
          "output_type": "execute_result",
          "data": {
            "text/plain": [
              "(2412, 318)"
            ]
          },
          "metadata": {},
          "execution_count": 10
        }
      ]
    },
    {
      "cell_type": "code",
      "source": [
        "df_s = df_1.select_dtypes(include='object')\n",
        "df_s.head()"
      ],
      "metadata": {
        "colab": {
          "base_uri": "https://localhost:8080/",
          "height": 206
        },
        "id": "KRSsZAiFB8SK",
        "outputId": "412e12f3-a1a3-436d-b336-495368c3eb2a"
      },
      "execution_count": null,
      "outputs": [
        {
          "output_type": "execute_result",
          "data": {
            "text/plain": [
              "     target\n",
              "0  matching\n",
              "1  matching\n",
              "2  matching\n",
              "3  matching\n",
              "4  matching"
            ],
            "text/html": [
              "\n",
              "  <div id=\"df-b23ccbc6-0c86-40ee-8512-538bc5ed01e0\">\n",
              "    <div class=\"colab-df-container\">\n",
              "      <div>\n",
              "<style scoped>\n",
              "    .dataframe tbody tr th:only-of-type {\n",
              "        vertical-align: middle;\n",
              "    }\n",
              "\n",
              "    .dataframe tbody tr th {\n",
              "        vertical-align: top;\n",
              "    }\n",
              "\n",
              "    .dataframe thead th {\n",
              "        text-align: right;\n",
              "    }\n",
              "</style>\n",
              "<table border=\"1\" class=\"dataframe\">\n",
              "  <thead>\n",
              "    <tr style=\"text-align: right;\">\n",
              "      <th></th>\n",
              "      <th>target</th>\n",
              "    </tr>\n",
              "  </thead>\n",
              "  <tbody>\n",
              "    <tr>\n",
              "      <th>0</th>\n",
              "      <td>matching</td>\n",
              "    </tr>\n",
              "    <tr>\n",
              "      <th>1</th>\n",
              "      <td>matching</td>\n",
              "    </tr>\n",
              "    <tr>\n",
              "      <th>2</th>\n",
              "      <td>matching</td>\n",
              "    </tr>\n",
              "    <tr>\n",
              "      <th>3</th>\n",
              "      <td>matching</td>\n",
              "    </tr>\n",
              "    <tr>\n",
              "      <th>4</th>\n",
              "      <td>matching</td>\n",
              "    </tr>\n",
              "  </tbody>\n",
              "</table>\n",
              "</div>\n",
              "      <button class=\"colab-df-convert\" onclick=\"convertToInteractive('df-b23ccbc6-0c86-40ee-8512-538bc5ed01e0')\"\n",
              "              title=\"Convert this dataframe to an interactive table.\"\n",
              "              style=\"display:none;\">\n",
              "        \n",
              "  <svg xmlns=\"http://www.w3.org/2000/svg\" height=\"24px\"viewBox=\"0 0 24 24\"\n",
              "       width=\"24px\">\n",
              "    <path d=\"M0 0h24v24H0V0z\" fill=\"none\"/>\n",
              "    <path d=\"M18.56 5.44l.94 2.06.94-2.06 2.06-.94-2.06-.94-.94-2.06-.94 2.06-2.06.94zm-11 1L8.5 8.5l.94-2.06 2.06-.94-2.06-.94L8.5 2.5l-.94 2.06-2.06.94zm10 10l.94 2.06.94-2.06 2.06-.94-2.06-.94-.94-2.06-.94 2.06-2.06.94z\"/><path d=\"M17.41 7.96l-1.37-1.37c-.4-.4-.92-.59-1.43-.59-.52 0-1.04.2-1.43.59L10.3 9.45l-7.72 7.72c-.78.78-.78 2.05 0 2.83L4 21.41c.39.39.9.59 1.41.59.51 0 1.02-.2 1.41-.59l7.78-7.78 2.81-2.81c.8-.78.8-2.07 0-2.86zM5.41 20L4 18.59l7.72-7.72 1.47 1.35L5.41 20z\"/>\n",
              "  </svg>\n",
              "      </button>\n",
              "      \n",
              "  <style>\n",
              "    .colab-df-container {\n",
              "      display:flex;\n",
              "      flex-wrap:wrap;\n",
              "      gap: 12px;\n",
              "    }\n",
              "\n",
              "    .colab-df-convert {\n",
              "      background-color: #E8F0FE;\n",
              "      border: none;\n",
              "      border-radius: 50%;\n",
              "      cursor: pointer;\n",
              "      display: none;\n",
              "      fill: #1967D2;\n",
              "      height: 32px;\n",
              "      padding: 0 0 0 0;\n",
              "      width: 32px;\n",
              "    }\n",
              "\n",
              "    .colab-df-convert:hover {\n",
              "      background-color: #E2EBFA;\n",
              "      box-shadow: 0px 1px 2px rgba(60, 64, 67, 0.3), 0px 1px 3px 1px rgba(60, 64, 67, 0.15);\n",
              "      fill: #174EA6;\n",
              "    }\n",
              "\n",
              "    [theme=dark] .colab-df-convert {\n",
              "      background-color: #3B4455;\n",
              "      fill: #D2E3FC;\n",
              "    }\n",
              "\n",
              "    [theme=dark] .colab-df-convert:hover {\n",
              "      background-color: #434B5C;\n",
              "      box-shadow: 0px 1px 3px 1px rgba(0, 0, 0, 0.15);\n",
              "      filter: drop-shadow(0px 1px 2px rgba(0, 0, 0, 0.3));\n",
              "      fill: #FFFFFF;\n",
              "    }\n",
              "  </style>\n",
              "\n",
              "      <script>\n",
              "        const buttonEl =\n",
              "          document.querySelector('#df-b23ccbc6-0c86-40ee-8512-538bc5ed01e0 button.colab-df-convert');\n",
              "        buttonEl.style.display =\n",
              "          google.colab.kernel.accessAllowed ? 'block' : 'none';\n",
              "\n",
              "        async function convertToInteractive(key) {\n",
              "          const element = document.querySelector('#df-b23ccbc6-0c86-40ee-8512-538bc5ed01e0');\n",
              "          const dataTable =\n",
              "            await google.colab.kernel.invokeFunction('convertToInteractive',\n",
              "                                                     [key], {});\n",
              "          if (!dataTable) return;\n",
              "\n",
              "          const docLinkHtml = 'Like what you see? Visit the ' +\n",
              "            '<a target=\"_blank\" href=https://colab.research.google.com/notebooks/data_table.ipynb>data table notebook</a>'\n",
              "            + ' to learn more about interactive tables.';\n",
              "          element.innerHTML = '';\n",
              "          dataTable['output_type'] = 'display_data';\n",
              "          await google.colab.output.renderOutput(dataTable, element);\n",
              "          const docLink = document.createElement('div');\n",
              "          docLink.innerHTML = docLinkHtml;\n",
              "          element.appendChild(docLink);\n",
              "        }\n",
              "      </script>\n",
              "    </div>\n",
              "  </div>\n",
              "  "
            ]
          },
          "metadata": {},
          "execution_count": 11
        }
      ]
    },
    {
      "cell_type": "code",
      "source": [
        "X = df_1.drop('target', axis=1)\n",
        "y = df_1['target']\n",
        "y.value_counts()"
      ],
      "metadata": {
        "colab": {
          "base_uri": "https://localhost:8080/"
        },
        "id": "no7SRbqYB-Zq",
        "outputId": "eae5a081-e71e-40c9-8a0b-273733784e6d"
      },
      "execution_count": null,
      "outputs": [
        {
          "output_type": "execute_result",
          "data": {
            "text/plain": [
              "tseitin           298\n",
              "dominating        294\n",
              "cliquecoloring    268\n",
              "php               266\n",
              "subsetcard        263\n",
              "op                201\n",
              "tiling            120\n",
              "5clique           108\n",
              "3color            104\n",
              "matching          102\n",
              "5color             98\n",
              "4color             98\n",
              "3clique            98\n",
              "4clique            94\n",
              "Name: target, dtype: int64"
            ]
          },
          "metadata": {},
          "execution_count": 12
        }
      ]
    },
    {
      "cell_type": "markdown",
      "source": [
        "### ENCODING THE Target Column"
      ],
      "metadata": {
        "id": "4JgeX9-krq7O"
      }
    },
    {
      "cell_type": "code",
      "source": [
        "le = LabelEncoder()\n",
        "y = le.fit_transform(y)"
      ],
      "metadata": {
        "id": "KKZNGpeSR0Lh"
      },
      "execution_count": null,
      "outputs": []
    },
    {
      "cell_type": "markdown",
      "source": [
        "### Removing the INFINITE values and replacing them with NaN"
      ],
      "metadata": {
        "id": "QjevIoU9r11R"
      }
    },
    {
      "cell_type": "code",
      "source": [
        "print(np.isinf(X).sum().sum())\n",
        "X_1 = X.replace([np.inf, -np.inf], np.nan)"
      ],
      "metadata": {
        "colab": {
          "base_uri": "https://localhost:8080/"
        },
        "id": "WAHu4kXICBpP",
        "outputId": "ccac4693-c9a5-4113-e48d-f48d8ecfeb6c"
      },
      "execution_count": null,
      "outputs": [
        {
          "output_type": "stream",
          "name": "stdout",
          "text": [
            "820\n"
          ]
        }
      ]
    },
    {
      "cell_type": "code",
      "source": [
        "# Using imputation to fill the remaining missing values\n",
        "from sklearn.impute import KNNImputer\n",
        "\n",
        "imputer = KNNImputer(n_neighbors=10)\n",
        "imputed_data = imputer.fit_transform(X_1)\n",
        "X_2 = pd.DataFrame(imputed_data, columns=X_1.columns)"
      ],
      "metadata": {
        "id": "2LRreKHICHsk"
      },
      "execution_count": null,
      "outputs": []
    },
    {
      "cell_type": "code",
      "source": [
        "# Verifying if any null values still remain after Imputation\n",
        "X_2.columns[X_2.isna().any()].to_list()"
      ],
      "metadata": {
        "colab": {
          "base_uri": "https://localhost:8080/"
        },
        "id": "vOKic8NtsOLZ",
        "outputId": "ebc58ead-5c91-40df-d19f-d374f6480678"
      },
      "execution_count": null,
      "outputs": [
        {
          "output_type": "execute_result",
          "data": {
            "text/plain": [
              "[]"
            ]
          },
          "metadata": {},
          "execution_count": 16
        }
      ]
    },
    {
      "cell_type": "code",
      "source": [
        "X_2.shape"
      ],
      "metadata": {
        "colab": {
          "base_uri": "https://localhost:8080/"
        },
        "id": "cU_XlebcWcIg",
        "outputId": "fe0d2587-9869-4f5c-a977-de423ee5b998"
      },
      "execution_count": null,
      "outputs": [
        {
          "output_type": "execute_result",
          "data": {
            "text/plain": [
              "(2412, 317)"
            ]
          },
          "metadata": {},
          "execution_count": 17
        }
      ]
    },
    {
      "cell_type": "markdown",
      "source": [
        "### Setting the seed for random function before train_test_split. All the steps before this are deterministic and will not have any variability"
      ],
      "metadata": {
        "id": "3DhRw4dN4ljg"
      }
    },
    {
      "cell_type": "code",
      "source": [
        "random_state_val = 42"
      ],
      "metadata": {
        "id": "2EmRHXD3tbUi"
      },
      "execution_count": null,
      "outputs": []
    },
    {
      "cell_type": "code",
      "source": [
        "# y = np.argmax(y, axis=1)\n",
        "X_train, X_test, y_train, y_test = train_test_split(X_2, y, test_size=0.3, random_state=random_state_val)"
      ],
      "metadata": {
        "id": "6WKmVYFvEHzF"
      },
      "execution_count": null,
      "outputs": []
    },
    {
      "cell_type": "code",
      "source": [
        "X_train[:5]"
      ],
      "metadata": {
        "colab": {
          "base_uri": "https://localhost:8080/",
          "height": 386
        },
        "id": "v1Q9sbZFd75N",
        "outputId": "89161358-50ef-40ee-d383-3d0e15f761fa"
      },
      "execution_count": null,
      "outputs": [
        {
          "output_type": "execute_result",
          "data": {
            "text/plain": [
              "           c      v  clauses_vars_ratio  vars_clauses_ratio  vcg_var_mean  \\\n",
              "2115   280.0   29.0            9.655172            0.103571      0.162069   \n",
              "2126   436.0   31.0           14.064516            0.071101      0.170761   \n",
              "458     55.0   15.0            3.666667            0.272727      0.181818   \n",
              "78     936.0  106.0            8.830189            0.113248      0.030277   \n",
              "2385  1105.0   46.0           24.021739            0.041629      0.067106   \n",
              "\n",
              "      vcg_var_coeff  vcg_var_min  vcg_var_max  vcg_var_entropy  \\\n",
              "2115       0.573019     0.042857     0.375000         1.842983   \n",
              "2126       0.710254     0.027523     0.449541         2.093567   \n",
              "458        0.000000     0.181818     0.181818         0.000000   \n",
              "78         0.164145     0.018162     0.041667         2.755228   \n",
              "2385       0.036335     0.061538     0.071493         2.090440   \n",
              "\n",
              "      vcg_clause_mean  ...  rwh_0_min   rwh_0_max    rwh_1_mean  rwh_1_coeff  \\\n",
              "2115         0.162069  ...   109375.0    109375.0  2.186422e-07          0.0   \n",
              "2126         0.170761  ...    78750.0    234375.0  2.843686e-01          1.0   \n",
              "458          0.181818  ...     2500.0   2343750.0  1.040557e+04          1.0   \n",
              "78           0.030277  ...     1376.0   5859401.0  5.076226e+02          1.0   \n",
              "2385         0.067106  ...       29.0  17578128.0  7.946223e+03          1.0   \n",
              "\n",
              "         rwh_1_min     rwh_1_max    rwh_2_mean  rwh_2_coeff      rwh_2_min  \\\n",
              "2115  2.186422e-07  2.186422e-07  2.499507e-22          0.0   2.499507e-22   \n",
              "2126  3.093483e-12  5.687371e-01  5.075683e-01          1.0   1.463741e-65   \n",
              "458   1.905487e-22  2.081113e+04  1.041667e+04          1.0  8.927475e-138   \n",
              "78    1.574283e-29  1.015245e+03  5.193923e+02          1.0  9.499499e-134   \n",
              "2385  3.351633e-99  1.589245e+04  7.969101e+03          1.0   0.000000e+00   \n",
              "\n",
              "         rwh_2_max  \n",
              "2115  2.499507e-22  \n",
              "2126  1.015137e+00  \n",
              "458   2.083333e+04  \n",
              "78    1.038785e+03  \n",
              "2385  1.593820e+04  \n",
              "\n",
              "[5 rows x 317 columns]"
            ],
            "text/html": [
              "\n",
              "  <div id=\"df-5f128ed6-701e-4281-b490-5753edf9a13d\">\n",
              "    <div class=\"colab-df-container\">\n",
              "      <div>\n",
              "<style scoped>\n",
              "    .dataframe tbody tr th:only-of-type {\n",
              "        vertical-align: middle;\n",
              "    }\n",
              "\n",
              "    .dataframe tbody tr th {\n",
              "        vertical-align: top;\n",
              "    }\n",
              "\n",
              "    .dataframe thead th {\n",
              "        text-align: right;\n",
              "    }\n",
              "</style>\n",
              "<table border=\"1\" class=\"dataframe\">\n",
              "  <thead>\n",
              "    <tr style=\"text-align: right;\">\n",
              "      <th></th>\n",
              "      <th>c</th>\n",
              "      <th>v</th>\n",
              "      <th>clauses_vars_ratio</th>\n",
              "      <th>vars_clauses_ratio</th>\n",
              "      <th>vcg_var_mean</th>\n",
              "      <th>vcg_var_coeff</th>\n",
              "      <th>vcg_var_min</th>\n",
              "      <th>vcg_var_max</th>\n",
              "      <th>vcg_var_entropy</th>\n",
              "      <th>vcg_clause_mean</th>\n",
              "      <th>...</th>\n",
              "      <th>rwh_0_min</th>\n",
              "      <th>rwh_0_max</th>\n",
              "      <th>rwh_1_mean</th>\n",
              "      <th>rwh_1_coeff</th>\n",
              "      <th>rwh_1_min</th>\n",
              "      <th>rwh_1_max</th>\n",
              "      <th>rwh_2_mean</th>\n",
              "      <th>rwh_2_coeff</th>\n",
              "      <th>rwh_2_min</th>\n",
              "      <th>rwh_2_max</th>\n",
              "    </tr>\n",
              "  </thead>\n",
              "  <tbody>\n",
              "    <tr>\n",
              "      <th>2115</th>\n",
              "      <td>280.0</td>\n",
              "      <td>29.0</td>\n",
              "      <td>9.655172</td>\n",
              "      <td>0.103571</td>\n",
              "      <td>0.162069</td>\n",
              "      <td>0.573019</td>\n",
              "      <td>0.042857</td>\n",
              "      <td>0.375000</td>\n",
              "      <td>1.842983</td>\n",
              "      <td>0.162069</td>\n",
              "      <td>...</td>\n",
              "      <td>109375.0</td>\n",
              "      <td>109375.0</td>\n",
              "      <td>2.186422e-07</td>\n",
              "      <td>0.0</td>\n",
              "      <td>2.186422e-07</td>\n",
              "      <td>2.186422e-07</td>\n",
              "      <td>2.499507e-22</td>\n",
              "      <td>0.0</td>\n",
              "      <td>2.499507e-22</td>\n",
              "      <td>2.499507e-22</td>\n",
              "    </tr>\n",
              "    <tr>\n",
              "      <th>2126</th>\n",
              "      <td>436.0</td>\n",
              "      <td>31.0</td>\n",
              "      <td>14.064516</td>\n",
              "      <td>0.071101</td>\n",
              "      <td>0.170761</td>\n",
              "      <td>0.710254</td>\n",
              "      <td>0.027523</td>\n",
              "      <td>0.449541</td>\n",
              "      <td>2.093567</td>\n",
              "      <td>0.170761</td>\n",
              "      <td>...</td>\n",
              "      <td>78750.0</td>\n",
              "      <td>234375.0</td>\n",
              "      <td>2.843686e-01</td>\n",
              "      <td>1.0</td>\n",
              "      <td>3.093483e-12</td>\n",
              "      <td>5.687371e-01</td>\n",
              "      <td>5.075683e-01</td>\n",
              "      <td>1.0</td>\n",
              "      <td>1.463741e-65</td>\n",
              "      <td>1.015137e+00</td>\n",
              "    </tr>\n",
              "    <tr>\n",
              "      <th>458</th>\n",
              "      <td>55.0</td>\n",
              "      <td>15.0</td>\n",
              "      <td>3.666667</td>\n",
              "      <td>0.272727</td>\n",
              "      <td>0.181818</td>\n",
              "      <td>0.000000</td>\n",
              "      <td>0.181818</td>\n",
              "      <td>0.181818</td>\n",
              "      <td>0.000000</td>\n",
              "      <td>0.181818</td>\n",
              "      <td>...</td>\n",
              "      <td>2500.0</td>\n",
              "      <td>2343750.0</td>\n",
              "      <td>1.040557e+04</td>\n",
              "      <td>1.0</td>\n",
              "      <td>1.905487e-22</td>\n",
              "      <td>2.081113e+04</td>\n",
              "      <td>1.041667e+04</td>\n",
              "      <td>1.0</td>\n",
              "      <td>8.927475e-138</td>\n",
              "      <td>2.083333e+04</td>\n",
              "    </tr>\n",
              "    <tr>\n",
              "      <th>78</th>\n",
              "      <td>936.0</td>\n",
              "      <td>106.0</td>\n",
              "      <td>8.830189</td>\n",
              "      <td>0.113248</td>\n",
              "      <td>0.030277</td>\n",
              "      <td>0.164145</td>\n",
              "      <td>0.018162</td>\n",
              "      <td>0.041667</td>\n",
              "      <td>2.755228</td>\n",
              "      <td>0.030277</td>\n",
              "      <td>...</td>\n",
              "      <td>1376.0</td>\n",
              "      <td>5859401.0</td>\n",
              "      <td>5.076226e+02</td>\n",
              "      <td>1.0</td>\n",
              "      <td>1.574283e-29</td>\n",
              "      <td>1.015245e+03</td>\n",
              "      <td>5.193923e+02</td>\n",
              "      <td>1.0</td>\n",
              "      <td>9.499499e-134</td>\n",
              "      <td>1.038785e+03</td>\n",
              "    </tr>\n",
              "    <tr>\n",
              "      <th>2385</th>\n",
              "      <td>1105.0</td>\n",
              "      <td>46.0</td>\n",
              "      <td>24.021739</td>\n",
              "      <td>0.041629</td>\n",
              "      <td>0.067106</td>\n",
              "      <td>0.036335</td>\n",
              "      <td>0.061538</td>\n",
              "      <td>0.071493</td>\n",
              "      <td>2.090440</td>\n",
              "      <td>0.067106</td>\n",
              "      <td>...</td>\n",
              "      <td>29.0</td>\n",
              "      <td>17578128.0</td>\n",
              "      <td>7.946223e+03</td>\n",
              "      <td>1.0</td>\n",
              "      <td>3.351633e-99</td>\n",
              "      <td>1.589245e+04</td>\n",
              "      <td>7.969101e+03</td>\n",
              "      <td>1.0</td>\n",
              "      <td>0.000000e+00</td>\n",
              "      <td>1.593820e+04</td>\n",
              "    </tr>\n",
              "  </tbody>\n",
              "</table>\n",
              "<p>5 rows × 317 columns</p>\n",
              "</div>\n",
              "      <button class=\"colab-df-convert\" onclick=\"convertToInteractive('df-5f128ed6-701e-4281-b490-5753edf9a13d')\"\n",
              "              title=\"Convert this dataframe to an interactive table.\"\n",
              "              style=\"display:none;\">\n",
              "        \n",
              "  <svg xmlns=\"http://www.w3.org/2000/svg\" height=\"24px\"viewBox=\"0 0 24 24\"\n",
              "       width=\"24px\">\n",
              "    <path d=\"M0 0h24v24H0V0z\" fill=\"none\"/>\n",
              "    <path d=\"M18.56 5.44l.94 2.06.94-2.06 2.06-.94-2.06-.94-.94-2.06-.94 2.06-2.06.94zm-11 1L8.5 8.5l.94-2.06 2.06-.94-2.06-.94L8.5 2.5l-.94 2.06-2.06.94zm10 10l.94 2.06.94-2.06 2.06-.94-2.06-.94-.94-2.06-.94 2.06-2.06.94z\"/><path d=\"M17.41 7.96l-1.37-1.37c-.4-.4-.92-.59-1.43-.59-.52 0-1.04.2-1.43.59L10.3 9.45l-7.72 7.72c-.78.78-.78 2.05 0 2.83L4 21.41c.39.39.9.59 1.41.59.51 0 1.02-.2 1.41-.59l7.78-7.78 2.81-2.81c.8-.78.8-2.07 0-2.86zM5.41 20L4 18.59l7.72-7.72 1.47 1.35L5.41 20z\"/>\n",
              "  </svg>\n",
              "      </button>\n",
              "      \n",
              "  <style>\n",
              "    .colab-df-container {\n",
              "      display:flex;\n",
              "      flex-wrap:wrap;\n",
              "      gap: 12px;\n",
              "    }\n",
              "\n",
              "    .colab-df-convert {\n",
              "      background-color: #E8F0FE;\n",
              "      border: none;\n",
              "      border-radius: 50%;\n",
              "      cursor: pointer;\n",
              "      display: none;\n",
              "      fill: #1967D2;\n",
              "      height: 32px;\n",
              "      padding: 0 0 0 0;\n",
              "      width: 32px;\n",
              "    }\n",
              "\n",
              "    .colab-df-convert:hover {\n",
              "      background-color: #E2EBFA;\n",
              "      box-shadow: 0px 1px 2px rgba(60, 64, 67, 0.3), 0px 1px 3px 1px rgba(60, 64, 67, 0.15);\n",
              "      fill: #174EA6;\n",
              "    }\n",
              "\n",
              "    [theme=dark] .colab-df-convert {\n",
              "      background-color: #3B4455;\n",
              "      fill: #D2E3FC;\n",
              "    }\n",
              "\n",
              "    [theme=dark] .colab-df-convert:hover {\n",
              "      background-color: #434B5C;\n",
              "      box-shadow: 0px 1px 3px 1px rgba(0, 0, 0, 0.15);\n",
              "      filter: drop-shadow(0px 1px 2px rgba(0, 0, 0, 0.3));\n",
              "      fill: #FFFFFF;\n",
              "    }\n",
              "  </style>\n",
              "\n",
              "      <script>\n",
              "        const buttonEl =\n",
              "          document.querySelector('#df-5f128ed6-701e-4281-b490-5753edf9a13d button.colab-df-convert');\n",
              "        buttonEl.style.display =\n",
              "          google.colab.kernel.accessAllowed ? 'block' : 'none';\n",
              "\n",
              "        async function convertToInteractive(key) {\n",
              "          const element = document.querySelector('#df-5f128ed6-701e-4281-b490-5753edf9a13d');\n",
              "          const dataTable =\n",
              "            await google.colab.kernel.invokeFunction('convertToInteractive',\n",
              "                                                     [key], {});\n",
              "          if (!dataTable) return;\n",
              "\n",
              "          const docLinkHtml = 'Like what you see? Visit the ' +\n",
              "            '<a target=\"_blank\" href=https://colab.research.google.com/notebooks/data_table.ipynb>data table notebook</a>'\n",
              "            + ' to learn more about interactive tables.';\n",
              "          element.innerHTML = '';\n",
              "          dataTable['output_type'] = 'display_data';\n",
              "          await google.colab.output.renderOutput(dataTable, element);\n",
              "          const docLink = document.createElement('div');\n",
              "          docLink.innerHTML = docLinkHtml;\n",
              "          element.appendChild(docLink);\n",
              "        }\n",
              "      </script>\n",
              "    </div>\n",
              "  </div>\n",
              "  "
            ]
          },
          "metadata": {},
          "execution_count": 20
        }
      ]
    },
    {
      "cell_type": "code",
      "source": [
        "X_test[:5]"
      ],
      "metadata": {
        "colab": {
          "base_uri": "https://localhost:8080/",
          "height": 386
        },
        "id": "m9zHl4qGd7w_",
        "outputId": "c9e90049-0f64-4ec2-aa09-b456c67064cc"
      },
      "execution_count": null,
      "outputs": [
        {
          "output_type": "execute_result",
          "data": {
            "text/plain": [
              "          c     v  clauses_vars_ratio  vars_clauses_ratio  vcg_var_mean  \\\n",
              "1621  231.0  21.0           11.000000            0.090909      0.132344   \n",
              "2200  739.0  52.0           14.211538            0.070365      0.097117   \n",
              "2399  854.0  42.0           20.333333            0.049180      0.067581   \n",
              "1953  775.0  90.0            8.611111            0.116129      0.033118   \n",
              "1798  647.0  97.0            6.670103            0.149923      0.027215   \n",
              "\n",
              "      vcg_var_coeff  vcg_var_min  vcg_var_max  vcg_var_entropy  \\\n",
              "1621       0.058489     0.121212     0.142857         1.555266   \n",
              "2200       0.468746     0.051421     0.184032         1.914111   \n",
              "2399       0.105414     0.046838     0.079625         2.895668   \n",
              "1953       0.018366     0.032258     0.033548         0.636514   \n",
              "1798       0.288034     0.013910     0.044822         2.499311   \n",
              "\n",
              "      vcg_clause_mean  ...  rwh_0_min   rwh_0_max    rwh_1_mean  rwh_1_coeff  \\\n",
              "1621         0.132344  ...      176.0   7031300.0  17173.635454     1.000000   \n",
              "2200         0.097117  ...   109375.0    156250.0      0.000006     0.999854   \n",
              "2399         0.067581  ...       10.0  11328130.0   8201.011699     1.000000   \n",
              "1953         0.033118  ...   625625.0   1640625.0     34.929743     0.999428   \n",
              "1798         0.027215  ...   140625.0   4687500.0    376.466397     1.000000   \n",
              "\n",
              "         rwh_1_min     rwh_1_max    rwh_2_mean  rwh_2_coeff     rwh_2_min  \\\n",
              "1621  1.832871e-42  34347.270908  1.705808e+04      1.00000  0.000000e+00   \n",
              "2200  9.410393e-10      0.000013  1.665021e-10      1.00000  8.577272e-32   \n",
              "2399  1.165219e-74  16402.023398  8.029052e+03      1.00000  0.000000e+00   \n",
              "1953  1.996977e-02     69.839517  4.823058e+01      0.99921  3.808217e-02   \n",
              "1798  2.796971e-10    752.932794  4.134127e+02      1.00000  1.738893e-26   \n",
              "\n",
              "         rwh_2_max  \n",
              "1621  3.411615e+04  \n",
              "2200  3.330041e-10  \n",
              "2399  1.605810e+04  \n",
              "1953  9.642308e+01  \n",
              "1798  8.268253e+02  \n",
              "\n",
              "[5 rows x 317 columns]"
            ],
            "text/html": [
              "\n",
              "  <div id=\"df-b4dcf421-3918-4914-b85f-efa7c3acca82\">\n",
              "    <div class=\"colab-df-container\">\n",
              "      <div>\n",
              "<style scoped>\n",
              "    .dataframe tbody tr th:only-of-type {\n",
              "        vertical-align: middle;\n",
              "    }\n",
              "\n",
              "    .dataframe tbody tr th {\n",
              "        vertical-align: top;\n",
              "    }\n",
              "\n",
              "    .dataframe thead th {\n",
              "        text-align: right;\n",
              "    }\n",
              "</style>\n",
              "<table border=\"1\" class=\"dataframe\">\n",
              "  <thead>\n",
              "    <tr style=\"text-align: right;\">\n",
              "      <th></th>\n",
              "      <th>c</th>\n",
              "      <th>v</th>\n",
              "      <th>clauses_vars_ratio</th>\n",
              "      <th>vars_clauses_ratio</th>\n",
              "      <th>vcg_var_mean</th>\n",
              "      <th>vcg_var_coeff</th>\n",
              "      <th>vcg_var_min</th>\n",
              "      <th>vcg_var_max</th>\n",
              "      <th>vcg_var_entropy</th>\n",
              "      <th>vcg_clause_mean</th>\n",
              "      <th>...</th>\n",
              "      <th>rwh_0_min</th>\n",
              "      <th>rwh_0_max</th>\n",
              "      <th>rwh_1_mean</th>\n",
              "      <th>rwh_1_coeff</th>\n",
              "      <th>rwh_1_min</th>\n",
              "      <th>rwh_1_max</th>\n",
              "      <th>rwh_2_mean</th>\n",
              "      <th>rwh_2_coeff</th>\n",
              "      <th>rwh_2_min</th>\n",
              "      <th>rwh_2_max</th>\n",
              "    </tr>\n",
              "  </thead>\n",
              "  <tbody>\n",
              "    <tr>\n",
              "      <th>1621</th>\n",
              "      <td>231.0</td>\n",
              "      <td>21.0</td>\n",
              "      <td>11.000000</td>\n",
              "      <td>0.090909</td>\n",
              "      <td>0.132344</td>\n",
              "      <td>0.058489</td>\n",
              "      <td>0.121212</td>\n",
              "      <td>0.142857</td>\n",
              "      <td>1.555266</td>\n",
              "      <td>0.132344</td>\n",
              "      <td>...</td>\n",
              "      <td>176.0</td>\n",
              "      <td>7031300.0</td>\n",
              "      <td>17173.635454</td>\n",
              "      <td>1.000000</td>\n",
              "      <td>1.832871e-42</td>\n",
              "      <td>34347.270908</td>\n",
              "      <td>1.705808e+04</td>\n",
              "      <td>1.00000</td>\n",
              "      <td>0.000000e+00</td>\n",
              "      <td>3.411615e+04</td>\n",
              "    </tr>\n",
              "    <tr>\n",
              "      <th>2200</th>\n",
              "      <td>739.0</td>\n",
              "      <td>52.0</td>\n",
              "      <td>14.211538</td>\n",
              "      <td>0.070365</td>\n",
              "      <td>0.097117</td>\n",
              "      <td>0.468746</td>\n",
              "      <td>0.051421</td>\n",
              "      <td>0.184032</td>\n",
              "      <td>1.914111</td>\n",
              "      <td>0.097117</td>\n",
              "      <td>...</td>\n",
              "      <td>109375.0</td>\n",
              "      <td>156250.0</td>\n",
              "      <td>0.000006</td>\n",
              "      <td>0.999854</td>\n",
              "      <td>9.410393e-10</td>\n",
              "      <td>0.000013</td>\n",
              "      <td>1.665021e-10</td>\n",
              "      <td>1.00000</td>\n",
              "      <td>8.577272e-32</td>\n",
              "      <td>3.330041e-10</td>\n",
              "    </tr>\n",
              "    <tr>\n",
              "      <th>2399</th>\n",
              "      <td>854.0</td>\n",
              "      <td>42.0</td>\n",
              "      <td>20.333333</td>\n",
              "      <td>0.049180</td>\n",
              "      <td>0.067581</td>\n",
              "      <td>0.105414</td>\n",
              "      <td>0.046838</td>\n",
              "      <td>0.079625</td>\n",
              "      <td>2.895668</td>\n",
              "      <td>0.067581</td>\n",
              "      <td>...</td>\n",
              "      <td>10.0</td>\n",
              "      <td>11328130.0</td>\n",
              "      <td>8201.011699</td>\n",
              "      <td>1.000000</td>\n",
              "      <td>1.165219e-74</td>\n",
              "      <td>16402.023398</td>\n",
              "      <td>8.029052e+03</td>\n",
              "      <td>1.00000</td>\n",
              "      <td>0.000000e+00</td>\n",
              "      <td>1.605810e+04</td>\n",
              "    </tr>\n",
              "    <tr>\n",
              "      <th>1953</th>\n",
              "      <td>775.0</td>\n",
              "      <td>90.0</td>\n",
              "      <td>8.611111</td>\n",
              "      <td>0.116129</td>\n",
              "      <td>0.033118</td>\n",
              "      <td>0.018366</td>\n",
              "      <td>0.032258</td>\n",
              "      <td>0.033548</td>\n",
              "      <td>0.636514</td>\n",
              "      <td>0.033118</td>\n",
              "      <td>...</td>\n",
              "      <td>625625.0</td>\n",
              "      <td>1640625.0</td>\n",
              "      <td>34.929743</td>\n",
              "      <td>0.999428</td>\n",
              "      <td>1.996977e-02</td>\n",
              "      <td>69.839517</td>\n",
              "      <td>4.823058e+01</td>\n",
              "      <td>0.99921</td>\n",
              "      <td>3.808217e-02</td>\n",
              "      <td>9.642308e+01</td>\n",
              "    </tr>\n",
              "    <tr>\n",
              "      <th>1798</th>\n",
              "      <td>647.0</td>\n",
              "      <td>97.0</td>\n",
              "      <td>6.670103</td>\n",
              "      <td>0.149923</td>\n",
              "      <td>0.027215</td>\n",
              "      <td>0.288034</td>\n",
              "      <td>0.013910</td>\n",
              "      <td>0.044822</td>\n",
              "      <td>2.499311</td>\n",
              "      <td>0.027215</td>\n",
              "      <td>...</td>\n",
              "      <td>140625.0</td>\n",
              "      <td>4687500.0</td>\n",
              "      <td>376.466397</td>\n",
              "      <td>1.000000</td>\n",
              "      <td>2.796971e-10</td>\n",
              "      <td>752.932794</td>\n",
              "      <td>4.134127e+02</td>\n",
              "      <td>1.00000</td>\n",
              "      <td>1.738893e-26</td>\n",
              "      <td>8.268253e+02</td>\n",
              "    </tr>\n",
              "  </tbody>\n",
              "</table>\n",
              "<p>5 rows × 317 columns</p>\n",
              "</div>\n",
              "      <button class=\"colab-df-convert\" onclick=\"convertToInteractive('df-b4dcf421-3918-4914-b85f-efa7c3acca82')\"\n",
              "              title=\"Convert this dataframe to an interactive table.\"\n",
              "              style=\"display:none;\">\n",
              "        \n",
              "  <svg xmlns=\"http://www.w3.org/2000/svg\" height=\"24px\"viewBox=\"0 0 24 24\"\n",
              "       width=\"24px\">\n",
              "    <path d=\"M0 0h24v24H0V0z\" fill=\"none\"/>\n",
              "    <path d=\"M18.56 5.44l.94 2.06.94-2.06 2.06-.94-2.06-.94-.94-2.06-.94 2.06-2.06.94zm-11 1L8.5 8.5l.94-2.06 2.06-.94-2.06-.94L8.5 2.5l-.94 2.06-2.06.94zm10 10l.94 2.06.94-2.06 2.06-.94-2.06-.94-.94-2.06-.94 2.06-2.06.94z\"/><path d=\"M17.41 7.96l-1.37-1.37c-.4-.4-.92-.59-1.43-.59-.52 0-1.04.2-1.43.59L10.3 9.45l-7.72 7.72c-.78.78-.78 2.05 0 2.83L4 21.41c.39.39.9.59 1.41.59.51 0 1.02-.2 1.41-.59l7.78-7.78 2.81-2.81c.8-.78.8-2.07 0-2.86zM5.41 20L4 18.59l7.72-7.72 1.47 1.35L5.41 20z\"/>\n",
              "  </svg>\n",
              "      </button>\n",
              "      \n",
              "  <style>\n",
              "    .colab-df-container {\n",
              "      display:flex;\n",
              "      flex-wrap:wrap;\n",
              "      gap: 12px;\n",
              "    }\n",
              "\n",
              "    .colab-df-convert {\n",
              "      background-color: #E8F0FE;\n",
              "      border: none;\n",
              "      border-radius: 50%;\n",
              "      cursor: pointer;\n",
              "      display: none;\n",
              "      fill: #1967D2;\n",
              "      height: 32px;\n",
              "      padding: 0 0 0 0;\n",
              "      width: 32px;\n",
              "    }\n",
              "\n",
              "    .colab-df-convert:hover {\n",
              "      background-color: #E2EBFA;\n",
              "      box-shadow: 0px 1px 2px rgba(60, 64, 67, 0.3), 0px 1px 3px 1px rgba(60, 64, 67, 0.15);\n",
              "      fill: #174EA6;\n",
              "    }\n",
              "\n",
              "    [theme=dark] .colab-df-convert {\n",
              "      background-color: #3B4455;\n",
              "      fill: #D2E3FC;\n",
              "    }\n",
              "\n",
              "    [theme=dark] .colab-df-convert:hover {\n",
              "      background-color: #434B5C;\n",
              "      box-shadow: 0px 1px 3px 1px rgba(0, 0, 0, 0.15);\n",
              "      filter: drop-shadow(0px 1px 2px rgba(0, 0, 0, 0.3));\n",
              "      fill: #FFFFFF;\n",
              "    }\n",
              "  </style>\n",
              "\n",
              "      <script>\n",
              "        const buttonEl =\n",
              "          document.querySelector('#df-b4dcf421-3918-4914-b85f-efa7c3acca82 button.colab-df-convert');\n",
              "        buttonEl.style.display =\n",
              "          google.colab.kernel.accessAllowed ? 'block' : 'none';\n",
              "\n",
              "        async function convertToInteractive(key) {\n",
              "          const element = document.querySelector('#df-b4dcf421-3918-4914-b85f-efa7c3acca82');\n",
              "          const dataTable =\n",
              "            await google.colab.kernel.invokeFunction('convertToInteractive',\n",
              "                                                     [key], {});\n",
              "          if (!dataTable) return;\n",
              "\n",
              "          const docLinkHtml = 'Like what you see? Visit the ' +\n",
              "            '<a target=\"_blank\" href=https://colab.research.google.com/notebooks/data_table.ipynb>data table notebook</a>'\n",
              "            + ' to learn more about interactive tables.';\n",
              "          element.innerHTML = '';\n",
              "          dataTable['output_type'] = 'display_data';\n",
              "          await google.colab.output.renderOutput(dataTable, element);\n",
              "          const docLink = document.createElement('div');\n",
              "          docLink.innerHTML = docLinkHtml;\n",
              "          element.appendChild(docLink);\n",
              "        }\n",
              "      </script>\n",
              "    </div>\n",
              "  </div>\n",
              "  "
            ]
          },
          "metadata": {},
          "execution_count": 21
        }
      ]
    },
    {
      "cell_type": "code",
      "source": [
        "X_2[:5]"
      ],
      "metadata": {
        "colab": {
          "base_uri": "https://localhost:8080/",
          "height": 386
        },
        "id": "YFOX5yaVd7iL",
        "outputId": "b6e598fc-b58f-49b9-ddfd-96587db7c514"
      },
      "execution_count": null,
      "outputs": [
        {
          "output_type": "execute_result",
          "data": {
            "text/plain": [
              "       c      v  clauses_vars_ratio  vars_clauses_ratio  vcg_var_mean  \\\n",
              "0  608.0   71.0            8.563380            0.116776      0.045172   \n",
              "1  615.0   70.0            8.785714            0.113821      0.049617   \n",
              "2  926.0  105.0            8.819048            0.113391      0.033385   \n",
              "3  603.0   70.0            8.614286            0.116086      0.049799   \n",
              "4  228.0   43.0            5.302326            0.188596      0.067319   \n",
              "\n",
              "   vcg_var_coeff  vcg_var_min  vcg_var_max  vcg_var_entropy  vcg_clause_mean  \\\n",
              "0       0.173688     0.029605     0.060855         2.802758         0.045172   \n",
              "1       0.168633     0.032520     0.069919         2.607264         0.049617   \n",
              "2       0.186444     0.017279     0.047516         3.022879         0.033385   \n",
              "3       0.133441     0.033167     0.063018         2.688342         0.049799   \n",
              "4       0.162581     0.048246     0.087719         2.203308         0.067319   \n",
              "\n",
              "   ...  rwh_0_min  rwh_0_max   rwh_1_mean  rwh_1_coeff     rwh_1_min  \\\n",
              "0  ...   109385.0  5078250.0  1056.695041     1.000000  2.981935e-09   \n",
              "1  ...     1575.0  5469376.0  1207.488426     1.000000  6.927306e-28   \n",
              "2  ...       20.0  4297025.0   441.327046     1.000000  1.194627e-76   \n",
              "3  ...     1065.0  6640651.0  1181.583331     1.000000  2.437278e-30   \n",
              "4  ...   313125.0  2437500.0  1091.423921     0.999966  3.723599e-02   \n",
              "\n",
              "     rwh_1_max   rwh_2_mean  rwh_2_coeff      rwh_2_min    rwh_2_max  \n",
              "0  2113.390083  1081.900778          1.0   1.302080e-29  2163.801556  \n",
              "1  2414.976852  1186.623627          1.0  3.491123e-120  2373.247255  \n",
              "2   882.654092   474.697562          1.0   0.000000e+00   949.395124  \n",
              "3  2363.166661  1149.059132          1.0  4.670090e-147  2298.118264  \n",
              "4  2182.810606  1296.888087          1.0   6.307424e-06  2593.776167  \n",
              "\n",
              "[5 rows x 317 columns]"
            ],
            "text/html": [
              "\n",
              "  <div id=\"df-8ec7b6d7-0835-4b9b-b485-2800ff0c52fc\">\n",
              "    <div class=\"colab-df-container\">\n",
              "      <div>\n",
              "<style scoped>\n",
              "    .dataframe tbody tr th:only-of-type {\n",
              "        vertical-align: middle;\n",
              "    }\n",
              "\n",
              "    .dataframe tbody tr th {\n",
              "        vertical-align: top;\n",
              "    }\n",
              "\n",
              "    .dataframe thead th {\n",
              "        text-align: right;\n",
              "    }\n",
              "</style>\n",
              "<table border=\"1\" class=\"dataframe\">\n",
              "  <thead>\n",
              "    <tr style=\"text-align: right;\">\n",
              "      <th></th>\n",
              "      <th>c</th>\n",
              "      <th>v</th>\n",
              "      <th>clauses_vars_ratio</th>\n",
              "      <th>vars_clauses_ratio</th>\n",
              "      <th>vcg_var_mean</th>\n",
              "      <th>vcg_var_coeff</th>\n",
              "      <th>vcg_var_min</th>\n",
              "      <th>vcg_var_max</th>\n",
              "      <th>vcg_var_entropy</th>\n",
              "      <th>vcg_clause_mean</th>\n",
              "      <th>...</th>\n",
              "      <th>rwh_0_min</th>\n",
              "      <th>rwh_0_max</th>\n",
              "      <th>rwh_1_mean</th>\n",
              "      <th>rwh_1_coeff</th>\n",
              "      <th>rwh_1_min</th>\n",
              "      <th>rwh_1_max</th>\n",
              "      <th>rwh_2_mean</th>\n",
              "      <th>rwh_2_coeff</th>\n",
              "      <th>rwh_2_min</th>\n",
              "      <th>rwh_2_max</th>\n",
              "    </tr>\n",
              "  </thead>\n",
              "  <tbody>\n",
              "    <tr>\n",
              "      <th>0</th>\n",
              "      <td>608.0</td>\n",
              "      <td>71.0</td>\n",
              "      <td>8.563380</td>\n",
              "      <td>0.116776</td>\n",
              "      <td>0.045172</td>\n",
              "      <td>0.173688</td>\n",
              "      <td>0.029605</td>\n",
              "      <td>0.060855</td>\n",
              "      <td>2.802758</td>\n",
              "      <td>0.045172</td>\n",
              "      <td>...</td>\n",
              "      <td>109385.0</td>\n",
              "      <td>5078250.0</td>\n",
              "      <td>1056.695041</td>\n",
              "      <td>1.000000</td>\n",
              "      <td>2.981935e-09</td>\n",
              "      <td>2113.390083</td>\n",
              "      <td>1081.900778</td>\n",
              "      <td>1.0</td>\n",
              "      <td>1.302080e-29</td>\n",
              "      <td>2163.801556</td>\n",
              "    </tr>\n",
              "    <tr>\n",
              "      <th>1</th>\n",
              "      <td>615.0</td>\n",
              "      <td>70.0</td>\n",
              "      <td>8.785714</td>\n",
              "      <td>0.113821</td>\n",
              "      <td>0.049617</td>\n",
              "      <td>0.168633</td>\n",
              "      <td>0.032520</td>\n",
              "      <td>0.069919</td>\n",
              "      <td>2.607264</td>\n",
              "      <td>0.049617</td>\n",
              "      <td>...</td>\n",
              "      <td>1575.0</td>\n",
              "      <td>5469376.0</td>\n",
              "      <td>1207.488426</td>\n",
              "      <td>1.000000</td>\n",
              "      <td>6.927306e-28</td>\n",
              "      <td>2414.976852</td>\n",
              "      <td>1186.623627</td>\n",
              "      <td>1.0</td>\n",
              "      <td>3.491123e-120</td>\n",
              "      <td>2373.247255</td>\n",
              "    </tr>\n",
              "    <tr>\n",
              "      <th>2</th>\n",
              "      <td>926.0</td>\n",
              "      <td>105.0</td>\n",
              "      <td>8.819048</td>\n",
              "      <td>0.113391</td>\n",
              "      <td>0.033385</td>\n",
              "      <td>0.186444</td>\n",
              "      <td>0.017279</td>\n",
              "      <td>0.047516</td>\n",
              "      <td>3.022879</td>\n",
              "      <td>0.033385</td>\n",
              "      <td>...</td>\n",
              "      <td>20.0</td>\n",
              "      <td>4297025.0</td>\n",
              "      <td>441.327046</td>\n",
              "      <td>1.000000</td>\n",
              "      <td>1.194627e-76</td>\n",
              "      <td>882.654092</td>\n",
              "      <td>474.697562</td>\n",
              "      <td>1.0</td>\n",
              "      <td>0.000000e+00</td>\n",
              "      <td>949.395124</td>\n",
              "    </tr>\n",
              "    <tr>\n",
              "      <th>3</th>\n",
              "      <td>603.0</td>\n",
              "      <td>70.0</td>\n",
              "      <td>8.614286</td>\n",
              "      <td>0.116086</td>\n",
              "      <td>0.049799</td>\n",
              "      <td>0.133441</td>\n",
              "      <td>0.033167</td>\n",
              "      <td>0.063018</td>\n",
              "      <td>2.688342</td>\n",
              "      <td>0.049799</td>\n",
              "      <td>...</td>\n",
              "      <td>1065.0</td>\n",
              "      <td>6640651.0</td>\n",
              "      <td>1181.583331</td>\n",
              "      <td>1.000000</td>\n",
              "      <td>2.437278e-30</td>\n",
              "      <td>2363.166661</td>\n",
              "      <td>1149.059132</td>\n",
              "      <td>1.0</td>\n",
              "      <td>4.670090e-147</td>\n",
              "      <td>2298.118264</td>\n",
              "    </tr>\n",
              "    <tr>\n",
              "      <th>4</th>\n",
              "      <td>228.0</td>\n",
              "      <td>43.0</td>\n",
              "      <td>5.302326</td>\n",
              "      <td>0.188596</td>\n",
              "      <td>0.067319</td>\n",
              "      <td>0.162581</td>\n",
              "      <td>0.048246</td>\n",
              "      <td>0.087719</td>\n",
              "      <td>2.203308</td>\n",
              "      <td>0.067319</td>\n",
              "      <td>...</td>\n",
              "      <td>313125.0</td>\n",
              "      <td>2437500.0</td>\n",
              "      <td>1091.423921</td>\n",
              "      <td>0.999966</td>\n",
              "      <td>3.723599e-02</td>\n",
              "      <td>2182.810606</td>\n",
              "      <td>1296.888087</td>\n",
              "      <td>1.0</td>\n",
              "      <td>6.307424e-06</td>\n",
              "      <td>2593.776167</td>\n",
              "    </tr>\n",
              "  </tbody>\n",
              "</table>\n",
              "<p>5 rows × 317 columns</p>\n",
              "</div>\n",
              "      <button class=\"colab-df-convert\" onclick=\"convertToInteractive('df-8ec7b6d7-0835-4b9b-b485-2800ff0c52fc')\"\n",
              "              title=\"Convert this dataframe to an interactive table.\"\n",
              "              style=\"display:none;\">\n",
              "        \n",
              "  <svg xmlns=\"http://www.w3.org/2000/svg\" height=\"24px\"viewBox=\"0 0 24 24\"\n",
              "       width=\"24px\">\n",
              "    <path d=\"M0 0h24v24H0V0z\" fill=\"none\"/>\n",
              "    <path d=\"M18.56 5.44l.94 2.06.94-2.06 2.06-.94-2.06-.94-.94-2.06-.94 2.06-2.06.94zm-11 1L8.5 8.5l.94-2.06 2.06-.94-2.06-.94L8.5 2.5l-.94 2.06-2.06.94zm10 10l.94 2.06.94-2.06 2.06-.94-2.06-.94-.94-2.06-.94 2.06-2.06.94z\"/><path d=\"M17.41 7.96l-1.37-1.37c-.4-.4-.92-.59-1.43-.59-.52 0-1.04.2-1.43.59L10.3 9.45l-7.72 7.72c-.78.78-.78 2.05 0 2.83L4 21.41c.39.39.9.59 1.41.59.51 0 1.02-.2 1.41-.59l7.78-7.78 2.81-2.81c.8-.78.8-2.07 0-2.86zM5.41 20L4 18.59l7.72-7.72 1.47 1.35L5.41 20z\"/>\n",
              "  </svg>\n",
              "      </button>\n",
              "      \n",
              "  <style>\n",
              "    .colab-df-container {\n",
              "      display:flex;\n",
              "      flex-wrap:wrap;\n",
              "      gap: 12px;\n",
              "    }\n",
              "\n",
              "    .colab-df-convert {\n",
              "      background-color: #E8F0FE;\n",
              "      border: none;\n",
              "      border-radius: 50%;\n",
              "      cursor: pointer;\n",
              "      display: none;\n",
              "      fill: #1967D2;\n",
              "      height: 32px;\n",
              "      padding: 0 0 0 0;\n",
              "      width: 32px;\n",
              "    }\n",
              "\n",
              "    .colab-df-convert:hover {\n",
              "      background-color: #E2EBFA;\n",
              "      box-shadow: 0px 1px 2px rgba(60, 64, 67, 0.3), 0px 1px 3px 1px rgba(60, 64, 67, 0.15);\n",
              "      fill: #174EA6;\n",
              "    }\n",
              "\n",
              "    [theme=dark] .colab-df-convert {\n",
              "      background-color: #3B4455;\n",
              "      fill: #D2E3FC;\n",
              "    }\n",
              "\n",
              "    [theme=dark] .colab-df-convert:hover {\n",
              "      background-color: #434B5C;\n",
              "      box-shadow: 0px 1px 3px 1px rgba(0, 0, 0, 0.15);\n",
              "      filter: drop-shadow(0px 1px 2px rgba(0, 0, 0, 0.3));\n",
              "      fill: #FFFFFF;\n",
              "    }\n",
              "  </style>\n",
              "\n",
              "      <script>\n",
              "        const buttonEl =\n",
              "          document.querySelector('#df-8ec7b6d7-0835-4b9b-b485-2800ff0c52fc button.colab-df-convert');\n",
              "        buttonEl.style.display =\n",
              "          google.colab.kernel.accessAllowed ? 'block' : 'none';\n",
              "\n",
              "        async function convertToInteractive(key) {\n",
              "          const element = document.querySelector('#df-8ec7b6d7-0835-4b9b-b485-2800ff0c52fc');\n",
              "          const dataTable =\n",
              "            await google.colab.kernel.invokeFunction('convertToInteractive',\n",
              "                                                     [key], {});\n",
              "          if (!dataTable) return;\n",
              "\n",
              "          const docLinkHtml = 'Like what you see? Visit the ' +\n",
              "            '<a target=\"_blank\" href=https://colab.research.google.com/notebooks/data_table.ipynb>data table notebook</a>'\n",
              "            + ' to learn more about interactive tables.';\n",
              "          element.innerHTML = '';\n",
              "          dataTable['output_type'] = 'display_data';\n",
              "          await google.colab.output.renderOutput(dataTable, element);\n",
              "          const docLink = document.createElement('div');\n",
              "          docLink.innerHTML = docLinkHtml;\n",
              "          element.appendChild(docLink);\n",
              "        }\n",
              "      </script>\n",
              "    </div>\n",
              "  </div>\n",
              "  "
            ]
          },
          "metadata": {},
          "execution_count": 22
        }
      ]
    },
    {
      "cell_type": "markdown",
      "source": [
        "# Tasks\n",
        "\n",
        "## Basic models and evaluation (5 Marks)\n",
        "\n",
        "Using Scikit-learn, train and evaluate a decision tree classifier using 70% of the dataset from training and 30% for testing. For this part of the project, we are not interested in optimising the parameters; we just want to get an idea of the dataset."
      ],
      "metadata": {
        "id": "zpZtGEr3FSAj"
      }
    },
    {
      "cell_type": "code",
      "source": [
        "from sklearn.tree import DecisionTreeClassifier\n",
        "\n",
        "\n",
        "simple_decision_tree = DecisionTreeClassifier(random_state=random_state_val)\n",
        "simple_decision_tree.fit(X_train, y_train)\n",
        "\n",
        "# Make predictions on the test set\n",
        "y_pred = simple_decision_tree.predict(X_test)\n",
        "\n",
        "# Calculate the accuracy score\n",
        "accuracy = accuracy_score(y_test, y_pred)\n",
        "print(\"Accuracy:\", accuracy)\n"
      ],
      "metadata": {
        "colab": {
          "base_uri": "https://localhost:8080/"
        },
        "id": "6O4-IyIlFYI_",
        "outputId": "27ddd8f7-38e3-44eb-a63d-b97d9f4e5d01"
      },
      "execution_count": null,
      "outputs": [
        {
          "output_type": "stream",
          "name": "stdout",
          "text": [
            "Accuracy: 0.9917127071823204\n"
          ]
        }
      ]
    },
    {
      "cell_type": "code",
      "source": [
        "# Creating a new Dataframe to keep track of Models and their accuracy scores.\n",
        "df_score = pd.DataFrame({'model_desc': 'simple_decision_tree', 'model_score': [accuracy]}, index=[0])\n",
        "simple_decision_tree.get_params()"
      ],
      "metadata": {
        "colab": {
          "base_uri": "https://localhost:8080/"
        },
        "id": "USSotI1Pd6Qs",
        "outputId": "b5eef749-b100-4503-e324-1ae2144e19f4"
      },
      "execution_count": null,
      "outputs": [
        {
          "output_type": "execute_result",
          "data": {
            "text/plain": [
              "{'ccp_alpha': 0.0,\n",
              " 'class_weight': None,\n",
              " 'criterion': 'gini',\n",
              " 'max_depth': None,\n",
              " 'max_features': None,\n",
              " 'max_leaf_nodes': None,\n",
              " 'min_impurity_decrease': 0.0,\n",
              " 'min_samples_leaf': 1,\n",
              " 'min_samples_split': 2,\n",
              " 'min_weight_fraction_leaf': 0.0,\n",
              " 'random_state': 42,\n",
              " 'splitter': 'best'}"
            ]
          },
          "metadata": {},
          "execution_count": 24
        }
      ]
    },
    {
      "cell_type": "code",
      "source": [
        "X_train.shape"
      ],
      "metadata": {
        "colab": {
          "base_uri": "https://localhost:8080/"
        },
        "id": "M6y2tjuKgltz",
        "outputId": "d4c56a58-a7a4-48f6-c551-2460a3855fb1"
      },
      "execution_count": null,
      "outputs": [
        {
          "output_type": "execute_result",
          "data": {
            "text/plain": [
              "(1688, 317)"
            ]
          },
          "metadata": {},
          "execution_count": 25
        }
      ]
    },
    {
      "cell_type": "markdown",
      "source": [
        "## Robust evaluation\n",
        "\n",
        "In this section, we are interested in more rigorous techniques by implementing more sophisticated methods, for instance:\n",
        "* Hold-out and cross-validation.\n",
        "* Hyper-parameter tuning.\n",
        "* Feature reduction.\n",
        "* Feature selection.\n",
        "* Feature normalisation.\n",
        "\n"
      ],
      "metadata": {
        "id": "ao9JPjx3E98k"
      }
    },
    {
      "cell_type": "markdown",
      "source": [
        "chi2 cannot be done as the data has negative values"
      ],
      "metadata": {
        "id": "47cJmi4uhlXO"
      }
    },
    {
      "cell_type": "markdown",
      "source": [
        "Trying Lasso Regression for feature selection as the dataset has many columns which might lead to overfitting"
      ],
      "metadata": {
        "id": "q4wo5kIiYP6q"
      }
    },
    {
      "cell_type": "code",
      "source": [
        "# scale the data\n",
        "scaler = StandardScaler()\n",
        "X_train_scaled = scaler.fit_transform(X_train)\n",
        "\n",
        "# instantiate a Lasso Regression model\n",
        "lasso = Lasso(alpha=0.1)\n",
        "\n",
        "# fit the model to the training data\n",
        "lasso.fit(X_train_scaled, y_train)\n",
        "\n",
        "# predict the target variable for the test data\n",
        "X_test_scaled = scaler.transform(X_test)\n",
        "y_pred = lasso.predict(X_test_scaled)\n",
        "\n",
        "# evaluate the model performance\n",
        "print(\"R-squared score:\", lasso.score(X_test_scaled, y_test))\n"
      ],
      "metadata": {
        "colab": {
          "base_uri": "https://localhost:8080/"
        },
        "id": "Xp1vgIZuh1nf",
        "outputId": "d827bf91-3005-4489-d168-5c8094038641"
      },
      "execution_count": null,
      "outputs": [
        {
          "output_type": "stream",
          "name": "stdout",
          "text": [
            "R-squared score: 0.9001121454464669\n"
          ]
        }
      ]
    },
    {
      "cell_type": "code",
      "source": [
        "df_score = df_score.append({'model_desc': 'lasso', 'model_score': lasso.score(X_test_scaled, y_test)}, ignore_index=True)"
      ],
      "metadata": {
        "id": "-YoeZs9hv03H"
      },
      "execution_count": null,
      "outputs": []
    },
    {
      "cell_type": "code",
      "source": [
        "df_score"
      ],
      "metadata": {
        "colab": {
          "base_uri": "https://localhost:8080/",
          "height": 112
        },
        "id": "WT78IG8KwDNi",
        "outputId": "e474b2e1-1f8e-49fc-8a54-3297c460cd84"
      },
      "execution_count": null,
      "outputs": [
        {
          "output_type": "execute_result",
          "data": {
            "text/plain": [
              "             model_desc  model_score\n",
              "0  simple_decision_tree     0.991713\n",
              "1                 lasso     0.900112"
            ],
            "text/html": [
              "\n",
              "  <div id=\"df-72d68d9f-6370-48de-a8dc-720c2983ecf1\">\n",
              "    <div class=\"colab-df-container\">\n",
              "      <div>\n",
              "<style scoped>\n",
              "    .dataframe tbody tr th:only-of-type {\n",
              "        vertical-align: middle;\n",
              "    }\n",
              "\n",
              "    .dataframe tbody tr th {\n",
              "        vertical-align: top;\n",
              "    }\n",
              "\n",
              "    .dataframe thead th {\n",
              "        text-align: right;\n",
              "    }\n",
              "</style>\n",
              "<table border=\"1\" class=\"dataframe\">\n",
              "  <thead>\n",
              "    <tr style=\"text-align: right;\">\n",
              "      <th></th>\n",
              "      <th>model_desc</th>\n",
              "      <th>model_score</th>\n",
              "    </tr>\n",
              "  </thead>\n",
              "  <tbody>\n",
              "    <tr>\n",
              "      <th>0</th>\n",
              "      <td>simple_decision_tree</td>\n",
              "      <td>0.991713</td>\n",
              "    </tr>\n",
              "    <tr>\n",
              "      <th>1</th>\n",
              "      <td>lasso</td>\n",
              "      <td>0.900112</td>\n",
              "    </tr>\n",
              "  </tbody>\n",
              "</table>\n",
              "</div>\n",
              "      <button class=\"colab-df-convert\" onclick=\"convertToInteractive('df-72d68d9f-6370-48de-a8dc-720c2983ecf1')\"\n",
              "              title=\"Convert this dataframe to an interactive table.\"\n",
              "              style=\"display:none;\">\n",
              "        \n",
              "  <svg xmlns=\"http://www.w3.org/2000/svg\" height=\"24px\"viewBox=\"0 0 24 24\"\n",
              "       width=\"24px\">\n",
              "    <path d=\"M0 0h24v24H0V0z\" fill=\"none\"/>\n",
              "    <path d=\"M18.56 5.44l.94 2.06.94-2.06 2.06-.94-2.06-.94-.94-2.06-.94 2.06-2.06.94zm-11 1L8.5 8.5l.94-2.06 2.06-.94-2.06-.94L8.5 2.5l-.94 2.06-2.06.94zm10 10l.94 2.06.94-2.06 2.06-.94-2.06-.94-.94-2.06-.94 2.06-2.06.94z\"/><path d=\"M17.41 7.96l-1.37-1.37c-.4-.4-.92-.59-1.43-.59-.52 0-1.04.2-1.43.59L10.3 9.45l-7.72 7.72c-.78.78-.78 2.05 0 2.83L4 21.41c.39.39.9.59 1.41.59.51 0 1.02-.2 1.41-.59l7.78-7.78 2.81-2.81c.8-.78.8-2.07 0-2.86zM5.41 20L4 18.59l7.72-7.72 1.47 1.35L5.41 20z\"/>\n",
              "  </svg>\n",
              "      </button>\n",
              "      \n",
              "  <style>\n",
              "    .colab-df-container {\n",
              "      display:flex;\n",
              "      flex-wrap:wrap;\n",
              "      gap: 12px;\n",
              "    }\n",
              "\n",
              "    .colab-df-convert {\n",
              "      background-color: #E8F0FE;\n",
              "      border: none;\n",
              "      border-radius: 50%;\n",
              "      cursor: pointer;\n",
              "      display: none;\n",
              "      fill: #1967D2;\n",
              "      height: 32px;\n",
              "      padding: 0 0 0 0;\n",
              "      width: 32px;\n",
              "    }\n",
              "\n",
              "    .colab-df-convert:hover {\n",
              "      background-color: #E2EBFA;\n",
              "      box-shadow: 0px 1px 2px rgba(60, 64, 67, 0.3), 0px 1px 3px 1px rgba(60, 64, 67, 0.15);\n",
              "      fill: #174EA6;\n",
              "    }\n",
              "\n",
              "    [theme=dark] .colab-df-convert {\n",
              "      background-color: #3B4455;\n",
              "      fill: #D2E3FC;\n",
              "    }\n",
              "\n",
              "    [theme=dark] .colab-df-convert:hover {\n",
              "      background-color: #434B5C;\n",
              "      box-shadow: 0px 1px 3px 1px rgba(0, 0, 0, 0.15);\n",
              "      filter: drop-shadow(0px 1px 2px rgba(0, 0, 0, 0.3));\n",
              "      fill: #FFFFFF;\n",
              "    }\n",
              "  </style>\n",
              "\n",
              "      <script>\n",
              "        const buttonEl =\n",
              "          document.querySelector('#df-72d68d9f-6370-48de-a8dc-720c2983ecf1 button.colab-df-convert');\n",
              "        buttonEl.style.display =\n",
              "          google.colab.kernel.accessAllowed ? 'block' : 'none';\n",
              "\n",
              "        async function convertToInteractive(key) {\n",
              "          const element = document.querySelector('#df-72d68d9f-6370-48de-a8dc-720c2983ecf1');\n",
              "          const dataTable =\n",
              "            await google.colab.kernel.invokeFunction('convertToInteractive',\n",
              "                                                     [key], {});\n",
              "          if (!dataTable) return;\n",
              "\n",
              "          const docLinkHtml = 'Like what you see? Visit the ' +\n",
              "            '<a target=\"_blank\" href=https://colab.research.google.com/notebooks/data_table.ipynb>data table notebook</a>'\n",
              "            + ' to learn more about interactive tables.';\n",
              "          element.innerHTML = '';\n",
              "          dataTable['output_type'] = 'display_data';\n",
              "          await google.colab.output.renderOutput(dataTable, element);\n",
              "          const docLink = document.createElement('div');\n",
              "          docLink.innerHTML = docLinkHtml;\n",
              "          element.appendChild(docLink);\n",
              "        }\n",
              "      </script>\n",
              "    </div>\n",
              "  </div>\n",
              "  "
            ]
          },
          "metadata": {},
          "execution_count": 28
        }
      ]
    },
    {
      "cell_type": "markdown",
      "source": [
        "First Trying with feature selection"
      ],
      "metadata": {
        "id": "_K5zyHb4Y4Ew"
      }
    },
    {
      "cell_type": "code",
      "source": [
        "# Creating a Pipeline for Decision Tree with Feature selection\n",
        "# Define the pipeline\n",
        "pipe_dt = Pipeline(steps=[\n",
        "     ('var_thresh', VarianceThreshold(threshold=0)),\n",
        "     ('feature_normalization', StandardScaler()),\n",
        "     (\"feature_selector\", SelectKBest()),\n",
        "     ('model', DecisionTreeClassifier(random_state=random_state_val))\n",
        "])\n",
        "param_grid = {\n",
        "    'model__max_depth': [15, 17, 20, None],\n",
        "    'model__min_samples_split': [2,3,5],\n",
        "    \"feature_selector__k\": [38, 45, 50, 55, 60, 65,70],\n",
        "}\n",
        "\n",
        "# Define the cross-validation method\n",
        "cv = KFold(n_splits=3, shuffle=True)\n",
        "\n",
        "# Step 6: Perform grid search for hyperparameter tuning and cross-validation\n",
        "grid_search_dt1 = GridSearchCV(pipe_dt, param_grid=param_grid, cv=cv, n_jobs=-1,scoring='accuracy', verbose=2)\n",
        "grid_search_dt1.fit(X_train, y_train)\n"
      ],
      "metadata": {
        "colab": {
          "base_uri": "https://localhost:8080/",
          "height": 236
        },
        "id": "_6nVeH7CFDtW",
        "outputId": "5008dc93-1999-41ba-ae9e-08b45ad1f252"
      },
      "execution_count": null,
      "outputs": [
        {
          "output_type": "stream",
          "name": "stdout",
          "text": [
            "Fitting 3 folds for each of 84 candidates, totalling 252 fits\n"
          ]
        },
        {
          "output_type": "execute_result",
          "data": {
            "text/plain": [
              "GridSearchCV(cv=KFold(n_splits=3, random_state=None, shuffle=True),\n",
              "             estimator=Pipeline(steps=[('var_thresh',\n",
              "                                        VarianceThreshold(threshold=0)),\n",
              "                                       ('feature_normalization',\n",
              "                                        StandardScaler()),\n",
              "                                       ('feature_selector', SelectKBest()),\n",
              "                                       ('model',\n",
              "                                        DecisionTreeClassifier(random_state=42))]),\n",
              "             n_jobs=-1,\n",
              "             param_grid={'feature_selector__k': [38, 45, 50, 55, 60, 65, 70],\n",
              "                         'model__max_depth': [15, 17, 20, None],\n",
              "                         'model__min_samples_split': [2, 3, 5]},\n",
              "             scoring='accuracy', verbose=2)"
            ],
            "text/html": [
              "<style>#sk-container-id-1 {color: black;background-color: white;}#sk-container-id-1 pre{padding: 0;}#sk-container-id-1 div.sk-toggleable {background-color: white;}#sk-container-id-1 label.sk-toggleable__label {cursor: pointer;display: block;width: 100%;margin-bottom: 0;padding: 0.3em;box-sizing: border-box;text-align: center;}#sk-container-id-1 label.sk-toggleable__label-arrow:before {content: \"▸\";float: left;margin-right: 0.25em;color: #696969;}#sk-container-id-1 label.sk-toggleable__label-arrow:hover:before {color: black;}#sk-container-id-1 div.sk-estimator:hover label.sk-toggleable__label-arrow:before {color: black;}#sk-container-id-1 div.sk-toggleable__content {max-height: 0;max-width: 0;overflow: hidden;text-align: left;background-color: #f0f8ff;}#sk-container-id-1 div.sk-toggleable__content pre {margin: 0.2em;color: black;border-radius: 0.25em;background-color: #f0f8ff;}#sk-container-id-1 input.sk-toggleable__control:checked~div.sk-toggleable__content {max-height: 200px;max-width: 100%;overflow: auto;}#sk-container-id-1 input.sk-toggleable__control:checked~label.sk-toggleable__label-arrow:before {content: \"▾\";}#sk-container-id-1 div.sk-estimator input.sk-toggleable__control:checked~label.sk-toggleable__label {background-color: #d4ebff;}#sk-container-id-1 div.sk-label input.sk-toggleable__control:checked~label.sk-toggleable__label {background-color: #d4ebff;}#sk-container-id-1 input.sk-hidden--visually {border: 0;clip: rect(1px 1px 1px 1px);clip: rect(1px, 1px, 1px, 1px);height: 1px;margin: -1px;overflow: hidden;padding: 0;position: absolute;width: 1px;}#sk-container-id-1 div.sk-estimator {font-family: monospace;background-color: #f0f8ff;border: 1px dotted black;border-radius: 0.25em;box-sizing: border-box;margin-bottom: 0.5em;}#sk-container-id-1 div.sk-estimator:hover {background-color: #d4ebff;}#sk-container-id-1 div.sk-parallel-item::after {content: \"\";width: 100%;border-bottom: 1px solid gray;flex-grow: 1;}#sk-container-id-1 div.sk-label:hover label.sk-toggleable__label {background-color: #d4ebff;}#sk-container-id-1 div.sk-serial::before {content: \"\";position: absolute;border-left: 1px solid gray;box-sizing: border-box;top: 0;bottom: 0;left: 50%;z-index: 0;}#sk-container-id-1 div.sk-serial {display: flex;flex-direction: column;align-items: center;background-color: white;padding-right: 0.2em;padding-left: 0.2em;position: relative;}#sk-container-id-1 div.sk-item {position: relative;z-index: 1;}#sk-container-id-1 div.sk-parallel {display: flex;align-items: stretch;justify-content: center;background-color: white;position: relative;}#sk-container-id-1 div.sk-item::before, #sk-container-id-1 div.sk-parallel-item::before {content: \"\";position: absolute;border-left: 1px solid gray;box-sizing: border-box;top: 0;bottom: 0;left: 50%;z-index: -1;}#sk-container-id-1 div.sk-parallel-item {display: flex;flex-direction: column;z-index: 1;position: relative;background-color: white;}#sk-container-id-1 div.sk-parallel-item:first-child::after {align-self: flex-end;width: 50%;}#sk-container-id-1 div.sk-parallel-item:last-child::after {align-self: flex-start;width: 50%;}#sk-container-id-1 div.sk-parallel-item:only-child::after {width: 0;}#sk-container-id-1 div.sk-dashed-wrapped {border: 1px dashed gray;margin: 0 0.4em 0.5em 0.4em;box-sizing: border-box;padding-bottom: 0.4em;background-color: white;}#sk-container-id-1 div.sk-label label {font-family: monospace;font-weight: bold;display: inline-block;line-height: 1.2em;}#sk-container-id-1 div.sk-label-container {text-align: center;}#sk-container-id-1 div.sk-container {/* jupyter's `normalize.less` sets `[hidden] { display: none; }` but bootstrap.min.css set `[hidden] { display: none !important; }` so we also need the `!important` here to be able to override the default hidden behavior on the sphinx rendered scikit-learn.org. See: https://github.com/scikit-learn/scikit-learn/issues/21755 */display: inline-block !important;position: relative;}#sk-container-id-1 div.sk-text-repr-fallback {display: none;}</style><div id=\"sk-container-id-1\" class=\"sk-top-container\"><div class=\"sk-text-repr-fallback\"><pre>GridSearchCV(cv=KFold(n_splits=3, random_state=None, shuffle=True),\n",
              "             estimator=Pipeline(steps=[(&#x27;var_thresh&#x27;,\n",
              "                                        VarianceThreshold(threshold=0)),\n",
              "                                       (&#x27;feature_normalization&#x27;,\n",
              "                                        StandardScaler()),\n",
              "                                       (&#x27;feature_selector&#x27;, SelectKBest()),\n",
              "                                       (&#x27;model&#x27;,\n",
              "                                        DecisionTreeClassifier(random_state=42))]),\n",
              "             n_jobs=-1,\n",
              "             param_grid={&#x27;feature_selector__k&#x27;: [38, 45, 50, 55, 60, 65, 70],\n",
              "                         &#x27;model__max_depth&#x27;: [15, 17, 20, None],\n",
              "                         &#x27;model__min_samples_split&#x27;: [2, 3, 5]},\n",
              "             scoring=&#x27;accuracy&#x27;, verbose=2)</pre><b>In a Jupyter environment, please rerun this cell to show the HTML representation or trust the notebook. <br />On GitHub, the HTML representation is unable to render, please try loading this page with nbviewer.org.</b></div><div class=\"sk-container\" hidden><div class=\"sk-item sk-dashed-wrapped\"><div class=\"sk-label-container\"><div class=\"sk-label sk-toggleable\"><input class=\"sk-toggleable__control sk-hidden--visually\" id=\"sk-estimator-id-1\" type=\"checkbox\" ><label for=\"sk-estimator-id-1\" class=\"sk-toggleable__label sk-toggleable__label-arrow\">GridSearchCV</label><div class=\"sk-toggleable__content\"><pre>GridSearchCV(cv=KFold(n_splits=3, random_state=None, shuffle=True),\n",
              "             estimator=Pipeline(steps=[(&#x27;var_thresh&#x27;,\n",
              "                                        VarianceThreshold(threshold=0)),\n",
              "                                       (&#x27;feature_normalization&#x27;,\n",
              "                                        StandardScaler()),\n",
              "                                       (&#x27;feature_selector&#x27;, SelectKBest()),\n",
              "                                       (&#x27;model&#x27;,\n",
              "                                        DecisionTreeClassifier(random_state=42))]),\n",
              "             n_jobs=-1,\n",
              "             param_grid={&#x27;feature_selector__k&#x27;: [38, 45, 50, 55, 60, 65, 70],\n",
              "                         &#x27;model__max_depth&#x27;: [15, 17, 20, None],\n",
              "                         &#x27;model__min_samples_split&#x27;: [2, 3, 5]},\n",
              "             scoring=&#x27;accuracy&#x27;, verbose=2)</pre></div></div></div><div class=\"sk-parallel\"><div class=\"sk-parallel-item\"><div class=\"sk-item\"><div class=\"sk-label-container\"><div class=\"sk-label sk-toggleable\"><input class=\"sk-toggleable__control sk-hidden--visually\" id=\"sk-estimator-id-2\" type=\"checkbox\" ><label for=\"sk-estimator-id-2\" class=\"sk-toggleable__label sk-toggleable__label-arrow\">estimator: Pipeline</label><div class=\"sk-toggleable__content\"><pre>Pipeline(steps=[(&#x27;var_thresh&#x27;, VarianceThreshold(threshold=0)),\n",
              "                (&#x27;feature_normalization&#x27;, StandardScaler()),\n",
              "                (&#x27;feature_selector&#x27;, SelectKBest()),\n",
              "                (&#x27;model&#x27;, DecisionTreeClassifier(random_state=42))])</pre></div></div></div><div class=\"sk-serial\"><div class=\"sk-item\"><div class=\"sk-serial\"><div class=\"sk-item\"><div class=\"sk-estimator sk-toggleable\"><input class=\"sk-toggleable__control sk-hidden--visually\" id=\"sk-estimator-id-3\" type=\"checkbox\" ><label for=\"sk-estimator-id-3\" class=\"sk-toggleable__label sk-toggleable__label-arrow\">VarianceThreshold</label><div class=\"sk-toggleable__content\"><pre>VarianceThreshold(threshold=0)</pre></div></div></div><div class=\"sk-item\"><div class=\"sk-estimator sk-toggleable\"><input class=\"sk-toggleable__control sk-hidden--visually\" id=\"sk-estimator-id-4\" type=\"checkbox\" ><label for=\"sk-estimator-id-4\" class=\"sk-toggleable__label sk-toggleable__label-arrow\">StandardScaler</label><div class=\"sk-toggleable__content\"><pre>StandardScaler()</pre></div></div></div><div class=\"sk-item\"><div class=\"sk-estimator sk-toggleable\"><input class=\"sk-toggleable__control sk-hidden--visually\" id=\"sk-estimator-id-5\" type=\"checkbox\" ><label for=\"sk-estimator-id-5\" class=\"sk-toggleable__label sk-toggleable__label-arrow\">SelectKBest</label><div class=\"sk-toggleable__content\"><pre>SelectKBest()</pre></div></div></div><div class=\"sk-item\"><div class=\"sk-estimator sk-toggleable\"><input class=\"sk-toggleable__control sk-hidden--visually\" id=\"sk-estimator-id-6\" type=\"checkbox\" ><label for=\"sk-estimator-id-6\" class=\"sk-toggleable__label sk-toggleable__label-arrow\">DecisionTreeClassifier</label><div class=\"sk-toggleable__content\"><pre>DecisionTreeClassifier(random_state=42)</pre></div></div></div></div></div></div></div></div></div></div></div></div>"
            ]
          },
          "metadata": {},
          "execution_count": 29
        }
      ]
    },
    {
      "cell_type": "code",
      "source": [
        "from sklearn.metrics import accuracy_score\n",
        "\n",
        "# Get the best estimator\n",
        "best_model = grid_search_dt1.best_estimator_\n",
        "\n",
        "# Make predictions on the test set\n",
        "y_pred = best_model.predict(X_test)\n",
        "\n",
        "# Calculate the accuracy score\n",
        "accuracy = accuracy_score(y_test, y_pred)\n",
        "df_score = df_score.append({'model_desc': 'grid_search_dt1', 'model_score': accuracy}, ignore_index=True)"
      ],
      "metadata": {
        "id": "Q1GgLkofsNAp"
      },
      "execution_count": null,
      "outputs": []
    },
    {
      "cell_type": "code",
      "source": [
        "# Print the best hyperparameters and the corresponding score\n",
        "print(\"Best hyperparameters:\", grid_search_dt1.best_params_)\n",
        "print(\"Best Train score:\", grid_search_dt1.best_score_)\n",
        "df_score = df_score.append({'model_desc': 'grid_search_dt1-Best score', 'model_score': grid_search_dt1.best_score_}, ignore_index=True)\n",
        "\n",
        "# Evaluate the performance of the best estimator on the test set for hold-out validation\n",
        "score = best_model.score(X_test, y_test)\n",
        "print(\"Hold-out validation score:\", score)\n",
        "df_score = df_score.append({'model_desc': 'grid_search_dt1-Hold-out validation score', 'model_score': score}, ignore_index=True)"
      ],
      "metadata": {
        "colab": {
          "base_uri": "https://localhost:8080/"
        },
        "id": "Y9NZ98vEGYII",
        "outputId": "72721eb3-dad5-4aaf-b2b9-1da247d870c2"
      },
      "execution_count": null,
      "outputs": [
        {
          "output_type": "stream",
          "name": "stdout",
          "text": [
            "Best hyperparameters: {'feature_selector__k': 38, 'model__max_depth': 15, 'model__min_samples_split': 5}\n",
            "Best Train score: 0.9697846016405083\n",
            "Hold-out validation score: 0.9792817679558011\n"
          ]
        }
      ]
    },
    {
      "cell_type": "code",
      "source": [
        "# Use cross-validation to evaluate the performance of the best estimator on the entire dataset\n",
        "scores = cross_val_score(best_model, X_2, y, cv=cv)\n",
        "print(\"Cross-validation scores:\", scores)"
      ],
      "metadata": {
        "colab": {
          "base_uri": "https://localhost:8080/"
        },
        "id": "ohJPK6abRQGQ",
        "outputId": "80b2fd7e-7fe0-414d-97fe-c26312942471"
      },
      "execution_count": null,
      "outputs": [
        {
          "output_type": "stream",
          "name": "stdout",
          "text": [
            "Cross-validation scores: [0.9800995  0.97761194 0.96641791]\n"
          ]
        }
      ]
    },
    {
      "cell_type": "code",
      "source": [
        "df_score = df_score.append({'model_desc': 'cross_val_score', 'model_score': scores}, ignore_index=True)"
      ],
      "metadata": {
        "id": "tZJQeQrg-ioh"
      },
      "execution_count": null,
      "outputs": []
    },
    {
      "cell_type": "code",
      "source": [
        "df_score"
      ],
      "metadata": {
        "colab": {
          "base_uri": "https://localhost:8080/",
          "height": 237
        },
        "id": "ca9qds0y2Kmc",
        "outputId": "6c041af5-f467-44d1-cc46-35ef75a8d891"
      },
      "execution_count": null,
      "outputs": [
        {
          "output_type": "execute_result",
          "data": {
            "text/plain": [
              "                                  model_desc  \\\n",
              "0                       simple_decision_tree   \n",
              "1                                      lasso   \n",
              "2                            grid_search_dt1   \n",
              "3                 grid_search_dt1-Best score   \n",
              "4  grid_search_dt1-Hold-out validation score   \n",
              "5                            cross_val_score   \n",
              "\n",
              "                                         model_score  \n",
              "0                                           0.991713  \n",
              "1                                           0.900112  \n",
              "2                                           0.979282  \n",
              "3                                           0.969785  \n",
              "4                                           0.979282  \n",
              "5  [0.9800995024875622, 0.9776119402985075, 0.966...  "
            ],
            "text/html": [
              "\n",
              "  <div id=\"df-c6c4e357-245f-44dc-a39f-5e8c1a4b3f78\">\n",
              "    <div class=\"colab-df-container\">\n",
              "      <div>\n",
              "<style scoped>\n",
              "    .dataframe tbody tr th:only-of-type {\n",
              "        vertical-align: middle;\n",
              "    }\n",
              "\n",
              "    .dataframe tbody tr th {\n",
              "        vertical-align: top;\n",
              "    }\n",
              "\n",
              "    .dataframe thead th {\n",
              "        text-align: right;\n",
              "    }\n",
              "</style>\n",
              "<table border=\"1\" class=\"dataframe\">\n",
              "  <thead>\n",
              "    <tr style=\"text-align: right;\">\n",
              "      <th></th>\n",
              "      <th>model_desc</th>\n",
              "      <th>model_score</th>\n",
              "    </tr>\n",
              "  </thead>\n",
              "  <tbody>\n",
              "    <tr>\n",
              "      <th>0</th>\n",
              "      <td>simple_decision_tree</td>\n",
              "      <td>0.991713</td>\n",
              "    </tr>\n",
              "    <tr>\n",
              "      <th>1</th>\n",
              "      <td>lasso</td>\n",
              "      <td>0.900112</td>\n",
              "    </tr>\n",
              "    <tr>\n",
              "      <th>2</th>\n",
              "      <td>grid_search_dt1</td>\n",
              "      <td>0.979282</td>\n",
              "    </tr>\n",
              "    <tr>\n",
              "      <th>3</th>\n",
              "      <td>grid_search_dt1-Best score</td>\n",
              "      <td>0.969785</td>\n",
              "    </tr>\n",
              "    <tr>\n",
              "      <th>4</th>\n",
              "      <td>grid_search_dt1-Hold-out validation score</td>\n",
              "      <td>0.979282</td>\n",
              "    </tr>\n",
              "    <tr>\n",
              "      <th>5</th>\n",
              "      <td>cross_val_score</td>\n",
              "      <td>[0.9800995024875622, 0.9776119402985075, 0.966...</td>\n",
              "    </tr>\n",
              "  </tbody>\n",
              "</table>\n",
              "</div>\n",
              "      <button class=\"colab-df-convert\" onclick=\"convertToInteractive('df-c6c4e357-245f-44dc-a39f-5e8c1a4b3f78')\"\n",
              "              title=\"Convert this dataframe to an interactive table.\"\n",
              "              style=\"display:none;\">\n",
              "        \n",
              "  <svg xmlns=\"http://www.w3.org/2000/svg\" height=\"24px\"viewBox=\"0 0 24 24\"\n",
              "       width=\"24px\">\n",
              "    <path d=\"M0 0h24v24H0V0z\" fill=\"none\"/>\n",
              "    <path d=\"M18.56 5.44l.94 2.06.94-2.06 2.06-.94-2.06-.94-.94-2.06-.94 2.06-2.06.94zm-11 1L8.5 8.5l.94-2.06 2.06-.94-2.06-.94L8.5 2.5l-.94 2.06-2.06.94zm10 10l.94 2.06.94-2.06 2.06-.94-2.06-.94-.94-2.06-.94 2.06-2.06.94z\"/><path d=\"M17.41 7.96l-1.37-1.37c-.4-.4-.92-.59-1.43-.59-.52 0-1.04.2-1.43.59L10.3 9.45l-7.72 7.72c-.78.78-.78 2.05 0 2.83L4 21.41c.39.39.9.59 1.41.59.51 0 1.02-.2 1.41-.59l7.78-7.78 2.81-2.81c.8-.78.8-2.07 0-2.86zM5.41 20L4 18.59l7.72-7.72 1.47 1.35L5.41 20z\"/>\n",
              "  </svg>\n",
              "      </button>\n",
              "      \n",
              "  <style>\n",
              "    .colab-df-container {\n",
              "      display:flex;\n",
              "      flex-wrap:wrap;\n",
              "      gap: 12px;\n",
              "    }\n",
              "\n",
              "    .colab-df-convert {\n",
              "      background-color: #E8F0FE;\n",
              "      border: none;\n",
              "      border-radius: 50%;\n",
              "      cursor: pointer;\n",
              "      display: none;\n",
              "      fill: #1967D2;\n",
              "      height: 32px;\n",
              "      padding: 0 0 0 0;\n",
              "      width: 32px;\n",
              "    }\n",
              "\n",
              "    .colab-df-convert:hover {\n",
              "      background-color: #E2EBFA;\n",
              "      box-shadow: 0px 1px 2px rgba(60, 64, 67, 0.3), 0px 1px 3px 1px rgba(60, 64, 67, 0.15);\n",
              "      fill: #174EA6;\n",
              "    }\n",
              "\n",
              "    [theme=dark] .colab-df-convert {\n",
              "      background-color: #3B4455;\n",
              "      fill: #D2E3FC;\n",
              "    }\n",
              "\n",
              "    [theme=dark] .colab-df-convert:hover {\n",
              "      background-color: #434B5C;\n",
              "      box-shadow: 0px 1px 3px 1px rgba(0, 0, 0, 0.15);\n",
              "      filter: drop-shadow(0px 1px 2px rgba(0, 0, 0, 0.3));\n",
              "      fill: #FFFFFF;\n",
              "    }\n",
              "  </style>\n",
              "\n",
              "      <script>\n",
              "        const buttonEl =\n",
              "          document.querySelector('#df-c6c4e357-245f-44dc-a39f-5e8c1a4b3f78 button.colab-df-convert');\n",
              "        buttonEl.style.display =\n",
              "          google.colab.kernel.accessAllowed ? 'block' : 'none';\n",
              "\n",
              "        async function convertToInteractive(key) {\n",
              "          const element = document.querySelector('#df-c6c4e357-245f-44dc-a39f-5e8c1a4b3f78');\n",
              "          const dataTable =\n",
              "            await google.colab.kernel.invokeFunction('convertToInteractive',\n",
              "                                                     [key], {});\n",
              "          if (!dataTable) return;\n",
              "\n",
              "          const docLinkHtml = 'Like what you see? Visit the ' +\n",
              "            '<a target=\"_blank\" href=https://colab.research.google.com/notebooks/data_table.ipynb>data table notebook</a>'\n",
              "            + ' to learn more about interactive tables.';\n",
              "          element.innerHTML = '';\n",
              "          dataTable['output_type'] = 'display_data';\n",
              "          await google.colab.output.renderOutput(dataTable, element);\n",
              "          const docLink = document.createElement('div');\n",
              "          docLink.innerHTML = docLinkHtml;\n",
              "          element.appendChild(docLink);\n",
              "        }\n",
              "      </script>\n",
              "    </div>\n",
              "  </div>\n",
              "  "
            ]
          },
          "metadata": {},
          "execution_count": 34
        }
      ]
    },
    {
      "cell_type": "markdown",
      "source": [
        "Trying PCA for dimentionality reduction. These curves will help us in finding the optimal range of features that have maximum variance so we will be using these during our Grid search to find the best param"
      ],
      "metadata": {
        "id": "khLxzriaYbq-"
      }
    },
    {
      "cell_type": "code",
      "source": [
        "from sklearn.decomposition import PCA\n",
        "import matplotlib.pyplot as plt\n",
        "\n",
        "pca = PCA(n_components=317, random_state=random_state_val)\n",
        "pca.fit(X_train)\n",
        "\n",
        "# Scree Plot\n",
        "plt.plot(range(1, 318), pca.explained_variance_ratio_, 'bo-', linewidth=2)\n",
        "plt.xlabel('Principal Component')\n",
        "plt.ylabel('Explained Variance Ratio')\n",
        "plt.show()\n",
        "\n",
        "# Cumulative Explained Variance\n",
        "plt.plot(range(1, 318), np.cumsum(pca.explained_variance_ratio_), 'bo-', linewidth=2)\n",
        "plt.xlabel('Number of Principal Components')\n",
        "plt.ylabel('Cumulative Explained Variance')\n",
        "plt.show()"
      ],
      "metadata": {
        "colab": {
          "base_uri": "https://localhost:8080/",
          "height": 885
        },
        "id": "gwKx2X-mgJ-T",
        "outputId": "f255bafb-3e13-46e1-fe9a-725c65c4f316"
      },
      "execution_count": null,
      "outputs": [
        {
          "output_type": "display_data",
          "data": {
            "text/plain": [
              "<Figure size 640x480 with 1 Axes>"
            ],
            "image/png": "[encoded data removed]"
          },
          "metadata": {}
        },
        {
          "output_type": "display_data",
          "data": {
            "text/plain": [
              "<Figure size 640x480 with 1 Axes>"
            ],
            "image/png": "[encoded data removed]"
          },
          "metadata": {}
        }
      ]
    },
    {
      "cell_type": "code",
      "source": [
        "# Creating a Pipeline for Decision Tree with PCA\n",
        "# Define the pipeline\n",
        "pipe_dt = Pipeline(steps=[\n",
        "    ('feature_normalization', StandardScaler()),\n",
        "    ('feature_reduction', PCA(random_state=random_state_val)),\n",
        "    ('model', DecisionTreeClassifier(random_state=random_state_val))\n",
        "])\n",
        "# Focussing the values around max-depth of 25 and feature-reduction of 80 features\n",
        "param_grid = {\n",
        "    'model__max_depth': [18, 20, 22, 25],\n",
        "    'model__min_samples_split': [2,3,5],\n",
        "    'feature_reduction__n_components': [38, 42, 65, 85, 105]\n",
        "}\n",
        "\n",
        "# Define the cross-validation method\n",
        "cv = KFold(n_splits=3, shuffle=True)\n",
        "\n",
        "# Step 6: Perform grid search for hyperparameter tuning and cross-validation\n",
        "grid_search_dt_pca = GridSearchCV(pipe_dt, param_grid=param_grid, cv=cv, n_jobs=-1,scoring='accuracy', verbose=2)\n",
        "grid_search_dt_pca.fit(X_train, y_train)\n"
      ],
      "metadata": {
        "colab": {
          "base_uri": "https://localhost:8080/",
          "height": 202
        },
        "id": "2kxgbTrbIGEu",
        "outputId": "1e38a3cd-166d-4354-af17-ae3910e1629b"
      },
      "execution_count": null,
      "outputs": [
        {
          "output_type": "stream",
          "name": "stdout",
          "text": [
            "Fitting 3 folds for each of 60 candidates, totalling 180 fits\n"
          ]
        },
        {
          "output_type": "execute_result",
          "data": {
            "text/plain": [
              "GridSearchCV(cv=KFold(n_splits=3, random_state=None, shuffle=True),\n",
              "             estimator=Pipeline(steps=[('feature_normalization',\n",
              "                                        StandardScaler()),\n",
              "                                       ('feature_reduction',\n",
              "                                        PCA(random_state=42)),\n",
              "                                       ('model',\n",
              "                                        DecisionTreeClassifier(random_state=42))]),\n",
              "             n_jobs=-1,\n",
              "             param_grid={'feature_reduction__n_components': [38, 42, 65, 85,\n",
              "                                                             105],\n",
              "                         'model__max_depth': [18, 20, 22, 25],\n",
              "                         'model__min_samples_split': [2, 3, 5]},\n",
              "             scoring='accuracy', verbose=2)"
            ],
            "text/html": [
              "<style>#sk-container-id-2 {color: black;background-color: white;}#sk-container-id-2 pre{padding: 0;}#sk-container-id-2 div.sk-toggleable {background-color: white;}#sk-container-id-2 label.sk-toggleable__label {cursor: pointer;display: block;width: 100%;margin-bottom: 0;padding: 0.3em;box-sizing: border-box;text-align: center;}#sk-container-id-2 label.sk-toggleable__label-arrow:before {content: \"▸\";float: left;margin-right: 0.25em;color: #696969;}#sk-container-id-2 label.sk-toggleable__label-arrow:hover:before {color: black;}#sk-container-id-2 div.sk-estimator:hover label.sk-toggleable__label-arrow:before {color: black;}#sk-container-id-2 div.sk-toggleable__content {max-height: 0;max-width: 0;overflow: hidden;text-align: left;background-color: #f0f8ff;}#sk-container-id-2 div.sk-toggleable__content pre {margin: 0.2em;color: black;border-radius: 0.25em;background-color: #f0f8ff;}#sk-container-id-2 input.sk-toggleable__control:checked~div.sk-toggleable__content {max-height: 200px;max-width: 100%;overflow: auto;}#sk-container-id-2 input.sk-toggleable__control:checked~label.sk-toggleable__label-arrow:before {content: \"▾\";}#sk-container-id-2 div.sk-estimator input.sk-toggleable__control:checked~label.sk-toggleable__label {background-color: #d4ebff;}#sk-container-id-2 div.sk-label input.sk-toggleable__control:checked~label.sk-toggleable__label {background-color: #d4ebff;}#sk-container-id-2 input.sk-hidden--visually {border: 0;clip: rect(1px 1px 1px 1px);clip: rect(1px, 1px, 1px, 1px);height: 1px;margin: -1px;overflow: hidden;padding: 0;position: absolute;width: 1px;}#sk-container-id-2 div.sk-estimator {font-family: monospace;background-color: #f0f8ff;border: 1px dotted black;border-radius: 0.25em;box-sizing: border-box;margin-bottom: 0.5em;}#sk-container-id-2 div.sk-estimator:hover {background-color: #d4ebff;}#sk-container-id-2 div.sk-parallel-item::after {content: \"\";width: 100%;border-bottom: 1px solid gray;flex-grow: 1;}#sk-container-id-2 div.sk-label:hover label.sk-toggleable__label {background-color: #d4ebff;}#sk-container-id-2 div.sk-serial::before {content: \"\";position: absolute;border-left: 1px solid gray;box-sizing: border-box;top: 0;bottom: 0;left: 50%;z-index: 0;}#sk-container-id-2 div.sk-serial {display: flex;flex-direction: column;align-items: center;background-color: white;padding-right: 0.2em;padding-left: 0.2em;position: relative;}#sk-container-id-2 div.sk-item {position: relative;z-index: 1;}#sk-container-id-2 div.sk-parallel {display: flex;align-items: stretch;justify-content: center;background-color: white;position: relative;}#sk-container-id-2 div.sk-item::before, #sk-container-id-2 div.sk-parallel-item::before {content: \"\";position: absolute;border-left: 1px solid gray;box-sizing: border-box;top: 0;bottom: 0;left: 50%;z-index: -1;}#sk-container-id-2 div.sk-parallel-item {display: flex;flex-direction: column;z-index: 1;position: relative;background-color: white;}#sk-container-id-2 div.sk-parallel-item:first-child::after {align-self: flex-end;width: 50%;}#sk-container-id-2 div.sk-parallel-item:last-child::after {align-self: flex-start;width: 50%;}#sk-container-id-2 div.sk-parallel-item:only-child::after {width: 0;}#sk-container-id-2 div.sk-dashed-wrapped {border: 1px dashed gray;margin: 0 0.4em 0.5em 0.4em;box-sizing: border-box;padding-bottom: 0.4em;background-color: white;}#sk-container-id-2 div.sk-label label {font-family: monospace;font-weight: bold;display: inline-block;line-height: 1.2em;}#sk-container-id-2 div.sk-label-container {text-align: center;}#sk-container-id-2 div.sk-container {/* jupyter's `normalize.less` sets `[hidden] { display: none; }` but bootstrap.min.css set `[hidden] { display: none !important; }` so we also need the `!important` here to be able to override the default hidden behavior on the sphinx rendered scikit-learn.org. See: https://github.com/scikit-learn/scikit-learn/issues/21755 */display: inline-block !important;position: relative;}#sk-container-id-2 div.sk-text-repr-fallback {display: none;}</style><div id=\"sk-container-id-2\" class=\"sk-top-container\"><div class=\"sk-text-repr-fallback\"><pre>GridSearchCV(cv=KFold(n_splits=3, random_state=None, shuffle=True),\n",
              "             estimator=Pipeline(steps=[(&#x27;feature_normalization&#x27;,\n",
              "                                        StandardScaler()),\n",
              "                                       (&#x27;feature_reduction&#x27;,\n",
              "                                        PCA(random_state=42)),\n",
              "                                       (&#x27;model&#x27;,\n",
              "                                        DecisionTreeClassifier(random_state=42))]),\n",
              "             n_jobs=-1,\n",
              "             param_grid={&#x27;feature_reduction__n_components&#x27;: [38, 42, 65, 85,\n",
              "                                                             105],\n",
              "                         &#x27;model__max_depth&#x27;: [18, 20, 22, 25],\n",
              "                         &#x27;model__min_samples_split&#x27;: [2, 3, 5]},\n",
              "             scoring=&#x27;accuracy&#x27;, verbose=2)</pre><b>In a Jupyter environment, please rerun this cell to show the HTML representation or trust the notebook. <br />On GitHub, the HTML representation is unable to render, please try loading this page with nbviewer.org.</b></div><div class=\"sk-container\" hidden><div class=\"sk-item sk-dashed-wrapped\"><div class=\"sk-label-container\"><div class=\"sk-label sk-toggleable\"><input class=\"sk-toggleable__control sk-hidden--visually\" id=\"sk-estimator-id-7\" type=\"checkbox\" ><label for=\"sk-estimator-id-7\" class=\"sk-toggleable__label sk-toggleable__label-arrow\">GridSearchCV</label><div class=\"sk-toggleable__content\"><pre>GridSearchCV(cv=KFold(n_splits=3, random_state=None, shuffle=True),\n",
              "             estimator=Pipeline(steps=[(&#x27;feature_normalization&#x27;,\n",
              "                                        StandardScaler()),\n",
              "                                       (&#x27;feature_reduction&#x27;,\n",
              "                                        PCA(random_state=42)),\n",
              "                                       (&#x27;model&#x27;,\n",
              "                                        DecisionTreeClassifier(random_state=42))]),\n",
              "             n_jobs=-1,\n",
              "             param_grid={&#x27;feature_reduction__n_components&#x27;: [38, 42, 65, 85,\n",
              "                                                             105],\n",
              "                         &#x27;model__max_depth&#x27;: [18, 20, 22, 25],\n",
              "                         &#x27;model__min_samples_split&#x27;: [2, 3, 5]},\n",
              "             scoring=&#x27;accuracy&#x27;, verbose=2)</pre></div></div></div><div class=\"sk-parallel\"><div class=\"sk-parallel-item\"><div class=\"sk-item\"><div class=\"sk-label-container\"><div class=\"sk-label sk-toggleable\"><input class=\"sk-toggleable__control sk-hidden--visually\" id=\"sk-estimator-id-8\" type=\"checkbox\" ><label for=\"sk-estimator-id-8\" class=\"sk-toggleable__label sk-toggleable__label-arrow\">estimator: Pipeline</label><div class=\"sk-toggleable__content\"><pre>Pipeline(steps=[(&#x27;feature_normalization&#x27;, StandardScaler()),\n",
              "                (&#x27;feature_reduction&#x27;, PCA(random_state=42)),\n",
              "                (&#x27;model&#x27;, DecisionTreeClassifier(random_state=42))])</pre></div></div></div><div class=\"sk-serial\"><div class=\"sk-item\"><div class=\"sk-serial\"><div class=\"sk-item\"><div class=\"sk-estimator sk-toggleable\"><input class=\"sk-toggleable__control sk-hidden--visually\" id=\"sk-estimator-id-9\" type=\"checkbox\" ><label for=\"sk-estimator-id-9\" class=\"sk-toggleable__label sk-toggleable__label-arrow\">StandardScaler</label><div class=\"sk-toggleable__content\"><pre>StandardScaler()</pre></div></div></div><div class=\"sk-item\"><div class=\"sk-estimator sk-toggleable\"><input class=\"sk-toggleable__control sk-hidden--visually\" id=\"sk-estimator-id-10\" type=\"checkbox\" ><label for=\"sk-estimator-id-10\" class=\"sk-toggleable__label sk-toggleable__label-arrow\">PCA</label><div class=\"sk-toggleable__content\"><pre>PCA(random_state=42)</pre></div></div></div><div class=\"sk-item\"><div class=\"sk-estimator sk-toggleable\"><input class=\"sk-toggleable__control sk-hidden--visually\" id=\"sk-estimator-id-11\" type=\"checkbox\" ><label for=\"sk-estimator-id-11\" class=\"sk-toggleable__label sk-toggleable__label-arrow\">DecisionTreeClassifier</label><div class=\"sk-toggleable__content\"><pre>DecisionTreeClassifier(random_state=42)</pre></div></div></div></div></div></div></div></div></div></div></div></div>"
            ]
          },
          "metadata": {},
          "execution_count": 36
        }
      ]
    },
    {
      "cell_type": "code",
      "source": [
        "from sklearn.metrics import accuracy_score\n",
        "\n",
        "# Get the best estimator\n",
        "best_model = grid_search_dt_pca.best_estimator_\n",
        "\n",
        "# Make predictions on the test set\n",
        "y_pred = best_model.predict(X_test)\n",
        "\n",
        "# Calculate the accuracy score\n",
        "accuracy = accuracy_score(y_test, y_pred)\n",
        "print(\"Test Accuracy:\", accuracy)\n",
        "df_score = df_score.append({'model_desc': 'grid_search_dt_pca', 'model_score': accuracy}, ignore_index=True)"
      ],
      "metadata": {
        "colab": {
          "base_uri": "https://localhost:8080/"
        },
        "id": "Fzbrf_N-RRUD",
        "outputId": "79124933-4735-47ce-c502-2712dc1f8afc"
      },
      "execution_count": null,
      "outputs": [
        {
          "output_type": "stream",
          "name": "stdout",
          "text": [
            "Test Accuracy: 0.9571823204419889\n"
          ]
        }
      ]
    },
    {
      "cell_type": "code",
      "source": [
        "# Print the best hyperparameters and the corresponding score\n",
        "print(\"Best hyperparameters:\", grid_search_dt_pca.best_params_)\n",
        "print(\"Best Training score:\", grid_search_dt_pca.best_score_)\n",
        "\n",
        "# Evaluate the performance of the best estimator on the test set for hold-out validation\n",
        "score = grid_search_dt_pca.best_estimator_.score(X_test, y_test)\n",
        "print(\"Hold-out validation score:\", score)\n",
        "df_score = df_score.append({'model_desc': 'grid_search_dt_pca-Hold_out_validation_Score', 'model_score': score}, ignore_index=True)\n",
        "\n",
        "# Use cross-validation to evaluate the performance of the best estimator on the entire dataset\n",
        "scores = cross_val_score(grid_search_dt_pca.best_estimator_, X_2, y, cv=cv)\n",
        "print(\"Cross-validation scores:\", scores)"
      ],
      "metadata": {
        "colab": {
          "base_uri": "https://localhost:8080/"
        },
        "id": "9bK0NoCJUBvV",
        "outputId": "e1d577fb-7adf-4660-f079-75b21dbac25a"
      },
      "execution_count": null,
      "outputs": [
        {
          "output_type": "stream",
          "name": "stdout",
          "text": [
            "Best hyperparameters: {'feature_reduction__n_components': 42, 'model__max_depth': 18, 'model__min_samples_split': 3}\n",
            "Best Training score: 0.9289120096753328\n",
            "Hold-out validation score: 0.9571823204419889\n",
            "Cross-validation scores: [0.95522388 0.93034826 0.95024876]\n"
          ]
        }
      ]
    },
    {
      "cell_type": "code",
      "source": [
        "df_score = df_score.append({'model_desc': 'grid_search_dt_pca-CrossValidationScore', 'model_score': scores}, ignore_index=True)\n",
        "df_score"
      ],
      "metadata": {
        "colab": {
          "base_uri": "https://localhost:8080/",
          "height": 331
        },
        "id": "p7aIrGUcPR_Q",
        "outputId": "4eaa74d6-0a52-4a85-b58d-ab675a589b07"
      },
      "execution_count": null,
      "outputs": [
        {
          "output_type": "execute_result",
          "data": {
            "text/plain": [
              "                                     model_desc  \\\n",
              "0                          simple_decision_tree   \n",
              "1                                         lasso   \n",
              "2                               grid_search_dt1   \n",
              "3                    grid_search_dt1-Best score   \n",
              "4     grid_search_dt1-Hold-out validation score   \n",
              "5                               cross_val_score   \n",
              "6                            grid_search_dt_pca   \n",
              "7  grid_search_dt_pca-Hold_out_validation_Score   \n",
              "8       grid_search_dt_pca-CrossValidationScore   \n",
              "\n",
              "                                         model_score  \n",
              "0                                           0.991713  \n",
              "1                                           0.900112  \n",
              "2                                           0.979282  \n",
              "3                                           0.969785  \n",
              "4                                           0.979282  \n",
              "5  [0.9800995024875622, 0.9776119402985075, 0.966...  \n",
              "6                                           0.957182  \n",
              "7                                           0.957182  \n",
              "8  [0.9552238805970149, 0.9303482587064676, 0.950...  "
            ],
            "text/html": [
              "\n",
              "  <div id=\"df-efd677cc-919f-4121-b24d-7b4ae705c13a\">\n",
              "    <div class=\"colab-df-container\">\n",
              "      <div>\n",
              "<style scoped>\n",
              "    .dataframe tbody tr th:only-of-type {\n",
              "        vertical-align: middle;\n",
              "    }\n",
              "\n",
              "    .dataframe tbody tr th {\n",
              "        vertical-align: top;\n",
              "    }\n",
              "\n",
              "    .dataframe thead th {\n",
              "        text-align: right;\n",
              "    }\n",
              "</style>\n",
              "<table border=\"1\" class=\"dataframe\">\n",
              "  <thead>\n",
              "    <tr style=\"text-align: right;\">\n",
              "      <th></th>\n",
              "      <th>model_desc</th>\n",
              "      <th>model_score</th>\n",
              "    </tr>\n",
              "  </thead>\n",
              "  <tbody>\n",
              "    <tr>\n",
              "      <th>0</th>\n",
              "      <td>simple_decision_tree</td>\n",
              "      <td>0.991713</td>\n",
              "    </tr>\n",
              "    <tr>\n",
              "      <th>1</th>\n",
              "      <td>lasso</td>\n",
              "      <td>0.900112</td>\n",
              "    </tr>\n",
              "    <tr>\n",
              "      <th>2</th>\n",
              "      <td>grid_search_dt1</td>\n",
              "      <td>0.979282</td>\n",
              "    </tr>\n",
              "    <tr>\n",
              "      <th>3</th>\n",
              "      <td>grid_search_dt1-Best score</td>\n",
              "      <td>0.969785</td>\n",
              "    </tr>\n",
              "    <tr>\n",
              "      <th>4</th>\n",
              "      <td>grid_search_dt1-Hold-out validation score</td>\n",
              "      <td>0.979282</td>\n",
              "    </tr>\n",
              "    <tr>\n",
              "      <th>5</th>\n",
              "      <td>cross_val_score</td>\n",
              "      <td>[0.9800995024875622, 0.9776119402985075, 0.966...</td>\n",
              "    </tr>\n",
              "    <tr>\n",
              "      <th>6</th>\n",
              "      <td>grid_search_dt_pca</td>\n",
              "      <td>0.957182</td>\n",
              "    </tr>\n",
              "    <tr>\n",
              "      <th>7</th>\n",
              "      <td>grid_search_dt_pca-Hold_out_validation_Score</td>\n",
              "      <td>0.957182</td>\n",
              "    </tr>\n",
              "    <tr>\n",
              "      <th>8</th>\n",
              "      <td>grid_search_dt_pca-CrossValidationScore</td>\n",
              "      <td>[0.9552238805970149, 0.9303482587064676, 0.950...</td>\n",
              "    </tr>\n",
              "  </tbody>\n",
              "</table>\n",
              "</div>\n",
              "      <button class=\"colab-df-convert\" onclick=\"convertToInteractive('df-efd677cc-919f-4121-b24d-7b4ae705c13a')\"\n",
              "              title=\"Convert this dataframe to an interactive table.\"\n",
              "              style=\"display:none;\">\n",
              "        \n",
              "  <svg xmlns=\"http://www.w3.org/2000/svg\" height=\"24px\"viewBox=\"0 0 24 24\"\n",
              "       width=\"24px\">\n",
              "    <path d=\"M0 0h24v24H0V0z\" fill=\"none\"/>\n",
              "    <path d=\"M18.56 5.44l.94 2.06.94-2.06 2.06-.94-2.06-.94-.94-2.06-.94 2.06-2.06.94zm-11 1L8.5 8.5l.94-2.06 2.06-.94-2.06-.94L8.5 2.5l-.94 2.06-2.06.94zm10 10l.94 2.06.94-2.06 2.06-.94-2.06-.94-.94-2.06-.94 2.06-2.06.94z\"/><path d=\"M17.41 7.96l-1.37-1.37c-.4-.4-.92-.59-1.43-.59-.52 0-1.04.2-1.43.59L10.3 9.45l-7.72 7.72c-.78.78-.78 2.05 0 2.83L4 21.41c.39.39.9.59 1.41.59.51 0 1.02-.2 1.41-.59l7.78-7.78 2.81-2.81c.8-.78.8-2.07 0-2.86zM5.41 20L4 18.59l7.72-7.72 1.47 1.35L5.41 20z\"/>\n",
              "  </svg>\n",
              "      </button>\n",
              "      \n",
              "  <style>\n",
              "    .colab-df-container {\n",
              "      display:flex;\n",
              "      flex-wrap:wrap;\n",
              "      gap: 12px;\n",
              "    }\n",
              "\n",
              "    .colab-df-convert {\n",
              "      background-color: #E8F0FE;\n",
              "      border: none;\n",
              "      border-radius: 50%;\n",
              "      cursor: pointer;\n",
              "      display: none;\n",
              "      fill: #1967D2;\n",
              "      height: 32px;\n",
              "      padding: 0 0 0 0;\n",
              "      width: 32px;\n",
              "    }\n",
              "\n",
              "    .colab-df-convert:hover {\n",
              "      background-color: #E2EBFA;\n",
              "      box-shadow: 0px 1px 2px rgba(60, 64, 67, 0.3), 0px 1px 3px 1px rgba(60, 64, 67, 0.15);\n",
              "      fill: #174EA6;\n",
              "    }\n",
              "\n",
              "    [theme=dark] .colab-df-convert {\n",
              "      background-color: #3B4455;\n",
              "      fill: #D2E3FC;\n",
              "    }\n",
              "\n",
              "    [theme=dark] .colab-df-convert:hover {\n",
              "      background-color: #434B5C;\n",
              "      box-shadow: 0px 1px 3px 1px rgba(0, 0, 0, 0.15);\n",
              "      filter: drop-shadow(0px 1px 2px rgba(0, 0, 0, 0.3));\n",
              "      fill: #FFFFFF;\n",
              "    }\n",
              "  </style>\n",
              "\n",
              "      <script>\n",
              "        const buttonEl =\n",
              "          document.querySelector('#df-efd677cc-919f-4121-b24d-7b4ae705c13a button.colab-df-convert');\n",
              "        buttonEl.style.display =\n",
              "          google.colab.kernel.accessAllowed ? 'block' : 'none';\n",
              "\n",
              "        async function convertToInteractive(key) {\n",
              "          const element = document.querySelector('#df-efd677cc-919f-4121-b24d-7b4ae705c13a');\n",
              "          const dataTable =\n",
              "            await google.colab.kernel.invokeFunction('convertToInteractive',\n",
              "                                                     [key], {});\n",
              "          if (!dataTable) return;\n",
              "\n",
              "          const docLinkHtml = 'Like what you see? Visit the ' +\n",
              "            '<a target=\"_blank\" href=https://colab.research.google.com/notebooks/data_table.ipynb>data table notebook</a>'\n",
              "            + ' to learn more about interactive tables.';\n",
              "          element.innerHTML = '';\n",
              "          dataTable['output_type'] = 'display_data';\n",
              "          await google.colab.output.renderOutput(dataTable, element);\n",
              "          const docLink = document.createElement('div');\n",
              "          docLink.innerHTML = docLinkHtml;\n",
              "          element.appendChild(docLink);\n",
              "        }\n",
              "      </script>\n",
              "    </div>\n",
              "  </div>\n",
              "  "
            ]
          },
          "metadata": {},
          "execution_count": 39
        }
      ]
    },
    {
      "cell_type": "markdown",
      "source": [
        "We see that feature selection performs better than PCA so we will be using that going forward"
      ],
      "metadata": {
        "id": "cyZQ9q9VfMAn"
      }
    },
    {
      "cell_type": "markdown",
      "source": [
        "## MOVING AHEAD WITH FEATURE SELECTION AS FEATURE REDUCTION USING PCA IS NOT GIVING AS GOOD RESULTS. MOSTLY BECAUSE WE DONT HAVE ENOUGH NUMBER OF ROWS."
      ],
      "metadata": {
        "id": "bEWsix2OMqCZ"
      }
    },
    {
      "cell_type": "code",
      "source": [
        "grid_search_dt1.best_params_['feature_selector__k']"
      ],
      "metadata": {
        "colab": {
          "base_uri": "https://localhost:8080/"
        },
        "id": "rFdMcXzCP2Sg",
        "outputId": "42a4ab3c-8277-477c-fbd7-73a14ccdec8c"
      },
      "execution_count": null,
      "outputs": [
        {
          "output_type": "execute_result",
          "data": {
            "text/plain": [
              "38"
            ]
          },
          "metadata": {},
          "execution_count": 40
        }
      ]
    },
    {
      "cell_type": "code",
      "source": [
        "\n",
        "# Define the pipeline\n",
        "pipe = Pipeline(steps=[\n",
        "    ('var_thresh', VarianceThreshold(threshold=0)),\n",
        "    ('feature_normalization', StandardScaler()),\n",
        "    (\"feature_selector\", SelectKBest()),\n",
        "    ('model', None)\n",
        "])\n",
        "\n",
        "# Taking the best features that was previously selected by the GridSearch and\n",
        "# using the same for multi-model GridSearchCV\n",
        "pipe.set_params(feature_selector__k=grid_search_dt1.best_params_['feature_selector__k'])\n",
        "\n",
        "\n",
        "# Define the hyperparameters for tuning for each model\n",
        "param_grids = [\n",
        "    {\n",
        "        'model': [RandomForestClassifier(random_state=random_state_val)],\n",
        "        'model__n_estimators': [50, 100, 150],\n",
        "        'model__max_depth': [18, 20, 22, 25]\n",
        "    },\n",
        "    {\n",
        "        'model': [GradientBoostingClassifier(random_state=random_state_val)],\n",
        "        'model__n_estimators': [50, 100, 150],\n",
        "        'model__learning_rate': [0.01, 0.1, 1.0]\n",
        "    },\n",
        "    {\n",
        "        'model': [XGBClassifier(random_state=random_state_val)],\n",
        "        'model__n_estimators': [50, 100, 150],\n",
        "        'model__learning_rate': [0.01, 0.1, 1.0]\n",
        "    }\n",
        "]\n",
        "\n",
        "# Define the cross-validation method\n",
        "cv = KFold(n_splits=3, shuffle=True)\n",
        "\n",
        "# Create the GridSearchCV object for each model\n",
        "# Step 6: Perform grid search for hyperparameter tuning and cross-validation\n",
        "grid_search_multi_model = GridSearchCV(pipe, param_grid=param_grids, cv=3, n_jobs=-1,scoring='accuracy', verbose=2)\n",
        "grid_search_multi_model.fit(X_train, y_train)"
      ],
      "metadata": {
        "id": "QRJXrY2hI32F",
        "colab": {
          "base_uri": "https://localhost:8080/",
          "height": 236
        },
        "outputId": "8be02760-8d22-4701-cd40-d89a5431f9cc"
      },
      "execution_count": null,
      "outputs": [
        {
          "output_type": "stream",
          "name": "stdout",
          "text": [
            "Fitting 3 folds for each of 30 candidates, totalling 90 fits\n"
          ]
        },
        {
          "output_type": "execute_result",
          "data": {
            "text/plain": [
              "GridSearchCV(cv=3,\n",
              "             estimator=Pipeline(steps=[('var_thresh',\n",
              "                                        VarianceThreshold(threshold=0)),\n",
              "                                       ('feature_normalization',\n",
              "                                        StandardScaler()),\n",
              "                                       ('feature_selector', SelectKBest(k=38)),\n",
              "                                       ('model', None)]),\n",
              "             n_jobs=-1,\n",
              "             param_grid=[{'model': [RandomForestClassifier(max_depth=18,\n",
              "                                                           random_state=42)],\n",
              "                          'model__max_depth': [18, 20, 22, 25],\n",
              "                          'model__n_estimators': [50, 100, 150]},\n",
              "                         {'mode...\n",
              "                                                  max_cat_threshold=None,\n",
              "                                                  max_cat_to_onehot=None,\n",
              "                                                  max_delta_step=None,\n",
              "                                                  max_depth=None,\n",
              "                                                  max_leaves=None,\n",
              "                                                  min_child_weight=None,\n",
              "                                                  missing=nan,\n",
              "                                                  monotone_constraints=None,\n",
              "                                                  n_estimators=100, n_jobs=None,\n",
              "                                                  num_parallel_tree=None,\n",
              "                                                  predictor=None,\n",
              "                                                  random_state=42, ...)],\n",
              "                          'model__learning_rate': [0.01, 0.1, 1.0],\n",
              "                          'model__n_estimators': [50, 100, 150]}],\n",
              "             scoring='accuracy', verbose=2)"
            ],
            "text/html": [
              "<style>#sk-container-id-3 {color: black;background-color: white;}#sk-container-id-3 pre{padding: 0;}#sk-container-id-3 div.sk-toggleable {background-color: white;}#sk-container-id-3 label.sk-toggleable__label {cursor: pointer;display: block;width: 100%;margin-bottom: 0;padding: 0.3em;box-sizing: border-box;text-align: center;}#sk-container-id-3 label.sk-toggleable__label-arrow:before {content: \"▸\";float: left;margin-right: 0.25em;color: #696969;}#sk-container-id-3 label.sk-toggleable__label-arrow:hover:before {color: black;}#sk-container-id-3 div.sk-estimator:hover label.sk-toggleable__label-arrow:before {color: black;}#sk-container-id-3 div.sk-toggleable__content {max-height: 0;max-width: 0;overflow: hidden;text-align: left;background-color: #f0f8ff;}#sk-container-id-3 div.sk-toggleable__content pre {margin: 0.2em;color: black;border-radius: 0.25em;background-color: #f0f8ff;}#sk-container-id-3 input.sk-toggleable__control:checked~div.sk-toggleable__content {max-height: 200px;max-width: 100%;overflow: auto;}#sk-container-id-3 input.sk-toggleable__control:checked~label.sk-toggleable__label-arrow:before {content: \"▾\";}#sk-container-id-3 div.sk-estimator input.sk-toggleable__control:checked~label.sk-toggleable__label {background-color: #d4ebff;}#sk-container-id-3 div.sk-label input.sk-toggleable__control:checked~label.sk-toggleable__label {background-color: #d4ebff;}#sk-container-id-3 input.sk-hidden--visually {border: 0;clip: rect(1px 1px 1px 1px);clip: rect(1px, 1px, 1px, 1px);height: 1px;margin: -1px;overflow: hidden;padding: 0;position: absolute;width: 1px;}#sk-container-id-3 div.sk-estimator {font-family: monospace;background-color: #f0f8ff;border: 1px dotted black;border-radius: 0.25em;box-sizing: border-box;margin-bottom: 0.5em;}#sk-container-id-3 div.sk-estimator:hover {background-color: #d4ebff;}#sk-container-id-3 div.sk-parallel-item::after {content: \"\";width: 100%;border-bottom: 1px solid gray;flex-grow: 1;}#sk-container-id-3 div.sk-label:hover label.sk-toggleable__label {background-color: #d4ebff;}#sk-container-id-3 div.sk-serial::before {content: \"\";position: absolute;border-left: 1px solid gray;box-sizing: border-box;top: 0;bottom: 0;left: 50%;z-index: 0;}#sk-container-id-3 div.sk-serial {display: flex;flex-direction: column;align-items: center;background-color: white;padding-right: 0.2em;padding-left: 0.2em;position: relative;}#sk-container-id-3 div.sk-item {position: relative;z-index: 1;}#sk-container-id-3 div.sk-parallel {display: flex;align-items: stretch;justify-content: center;background-color: white;position: relative;}#sk-container-id-3 div.sk-item::before, #sk-container-id-3 div.sk-parallel-item::before {content: \"\";position: absolute;border-left: 1px solid gray;box-sizing: border-box;top: 0;bottom: 0;left: 50%;z-index: -1;}#sk-container-id-3 div.sk-parallel-item {display: flex;flex-direction: column;z-index: 1;position: relative;background-color: white;}#sk-container-id-3 div.sk-parallel-item:first-child::after {align-self: flex-end;width: 50%;}#sk-container-id-3 div.sk-parallel-item:last-child::after {align-self: flex-start;width: 50%;}#sk-container-id-3 div.sk-parallel-item:only-child::after {width: 0;}#sk-container-id-3 div.sk-dashed-wrapped {border: 1px dashed gray;margin: 0 0.4em 0.5em 0.4em;box-sizing: border-box;padding-bottom: 0.4em;background-color: white;}#sk-container-id-3 div.sk-label label {font-family: monospace;font-weight: bold;display: inline-block;line-height: 1.2em;}#sk-container-id-3 div.sk-label-container {text-align: center;}#sk-container-id-3 div.sk-container {/* jupyter's `normalize.less` sets `[hidden] { display: none; }` but bootstrap.min.css set `[hidden] { display: none !important; }` so we also need the `!important` here to be able to override the default hidden behavior on the sphinx rendered scikit-learn.org. See: https://github.com/scikit-learn/scikit-learn/issues/21755 */display: inline-block !important;position: relative;}#sk-container-id-3 div.sk-text-repr-fallback {display: none;}</style><div id=\"sk-container-id-3\" class=\"sk-top-container\"><div class=\"sk-text-repr-fallback\"><pre>GridSearchCV(cv=3,\n",
              "             estimator=Pipeline(steps=[(&#x27;var_thresh&#x27;,\n",
              "                                        VarianceThreshold(threshold=0)),\n",
              "                                       (&#x27;feature_normalization&#x27;,\n",
              "                                        StandardScaler()),\n",
              "                                       (&#x27;feature_selector&#x27;, SelectKBest(k=38)),\n",
              "                                       (&#x27;model&#x27;, None)]),\n",
              "             n_jobs=-1,\n",
              "             param_grid=[{&#x27;model&#x27;: [RandomForestClassifier(max_depth=18,\n",
              "                                                           random_state=42)],\n",
              "                          &#x27;model__max_depth&#x27;: [18, 20, 22, 25],\n",
              "                          &#x27;model__n_estimators&#x27;: [50, 100, 150]},\n",
              "                         {&#x27;mode...\n",
              "                                                  max_cat_threshold=None,\n",
              "                                                  max_cat_to_onehot=None,\n",
              "                                                  max_delta_step=None,\n",
              "                                                  max_depth=None,\n",
              "                                                  max_leaves=None,\n",
              "                                                  min_child_weight=None,\n",
              "                                                  missing=nan,\n",
              "                                                  monotone_constraints=None,\n",
              "                                                  n_estimators=100, n_jobs=None,\n",
              "                                                  num_parallel_tree=None,\n",
              "                                                  predictor=None,\n",
              "                                                  random_state=42, ...)],\n",
              "                          &#x27;model__learning_rate&#x27;: [0.01, 0.1, 1.0],\n",
              "                          &#x27;model__n_estimators&#x27;: [50, 100, 150]}],\n",
              "             scoring=&#x27;accuracy&#x27;, verbose=2)</pre><b>In a Jupyter environment, please rerun this cell to show the HTML representation or trust the notebook. <br />On GitHub, the HTML representation is unable to render, please try loading this page with nbviewer.org.</b></div><div class=\"sk-container\" hidden><div class=\"sk-item sk-dashed-wrapped\"><div class=\"sk-label-container\"><div class=\"sk-label sk-toggleable\"><input class=\"sk-toggleable__control sk-hidden--visually\" id=\"sk-estimator-id-12\" type=\"checkbox\" ><label for=\"sk-estimator-id-12\" class=\"sk-toggleable__label sk-toggleable__label-arrow\">GridSearchCV</label><div class=\"sk-toggleable__content\"><pre>GridSearchCV(cv=3,\n",
              "             estimator=Pipeline(steps=[(&#x27;var_thresh&#x27;,\n",
              "                                        VarianceThreshold(threshold=0)),\n",
              "                                       (&#x27;feature_normalization&#x27;,\n",
              "                                        StandardScaler()),\n",
              "                                       (&#x27;feature_selector&#x27;, SelectKBest(k=38)),\n",
              "                                       (&#x27;model&#x27;, None)]),\n",
              "             n_jobs=-1,\n",
              "             param_grid=[{&#x27;model&#x27;: [RandomForestClassifier(max_depth=18,\n",
              "                                                           random_state=42)],\n",
              "                          &#x27;model__max_depth&#x27;: [18, 20, 22, 25],\n",
              "                          &#x27;model__n_estimators&#x27;: [50, 100, 150]},\n",
              "                         {&#x27;mode...\n",
              "                                                  max_cat_threshold=None,\n",
              "                                                  max_cat_to_onehot=None,\n",
              "                                                  max_delta_step=None,\n",
              "                                                  max_depth=None,\n",
              "                                                  max_leaves=None,\n",
              "                                                  min_child_weight=None,\n",
              "                                                  missing=nan,\n",
              "                                                  monotone_constraints=None,\n",
              "                                                  n_estimators=100, n_jobs=None,\n",
              "                                                  num_parallel_tree=None,\n",
              "                                                  predictor=None,\n",
              "                                                  random_state=42, ...)],\n",
              "                          &#x27;model__learning_rate&#x27;: [0.01, 0.1, 1.0],\n",
              "                          &#x27;model__n_estimators&#x27;: [50, 100, 150]}],\n",
              "             scoring=&#x27;accuracy&#x27;, verbose=2)</pre></div></div></div><div class=\"sk-parallel\"><div class=\"sk-parallel-item\"><div class=\"sk-item\"><div class=\"sk-label-container\"><div class=\"sk-label sk-toggleable\"><input class=\"sk-toggleable__control sk-hidden--visually\" id=\"sk-estimator-id-13\" type=\"checkbox\" ><label for=\"sk-estimator-id-13\" class=\"sk-toggleable__label sk-toggleable__label-arrow\">estimator: Pipeline</label><div class=\"sk-toggleable__content\"><pre>Pipeline(steps=[(&#x27;var_thresh&#x27;, VarianceThreshold(threshold=0)),\n",
              "                (&#x27;feature_normalization&#x27;, StandardScaler()),\n",
              "                (&#x27;feature_selector&#x27;, SelectKBest(k=38)), (&#x27;model&#x27;, None)])</pre></div></div></div><div class=\"sk-serial\"><div class=\"sk-item\"><div class=\"sk-serial\"><div class=\"sk-item\"><div class=\"sk-estimator sk-toggleable\"><input class=\"sk-toggleable__control sk-hidden--visually\" id=\"sk-estimator-id-14\" type=\"checkbox\" ><label for=\"sk-estimator-id-14\" class=\"sk-toggleable__label sk-toggleable__label-arrow\">VarianceThreshold</label><div class=\"sk-toggleable__content\"><pre>VarianceThreshold(threshold=0)</pre></div></div></div><div class=\"sk-item\"><div class=\"sk-estimator sk-toggleable\"><input class=\"sk-toggleable__control sk-hidden--visually\" id=\"sk-estimator-id-15\" type=\"checkbox\" ><label for=\"sk-estimator-id-15\" class=\"sk-toggleable__label sk-toggleable__label-arrow\">StandardScaler</label><div class=\"sk-toggleable__content\"><pre>StandardScaler()</pre></div></div></div><div class=\"sk-item\"><div class=\"sk-estimator sk-toggleable\"><input class=\"sk-toggleable__control sk-hidden--visually\" id=\"sk-estimator-id-16\" type=\"checkbox\" ><label for=\"sk-estimator-id-16\" class=\"sk-toggleable__label sk-toggleable__label-arrow\">SelectKBest</label><div class=\"sk-toggleable__content\"><pre>SelectKBest(k=38)</pre></div></div></div><div class=\"sk-item\"><div class=\"sk-estimator sk-toggleable\"><input class=\"sk-toggleable__control sk-hidden--visually\" id=\"sk-estimator-id-17\" type=\"checkbox\" ><label for=\"sk-estimator-id-17\" class=\"sk-toggleable__label sk-toggleable__label-arrow\">None</label><div class=\"sk-toggleable__content\"><pre>None</pre></div></div></div></div></div></div></div></div></div></div></div></div>"
            ]
          },
          "metadata": {},
          "execution_count": 41
        }
      ]
    },
    {
      "cell_type": "code",
      "source": [
        "# Get the best estimator\n",
        "best_model = grid_search_multi_model.best_estimator_\n",
        "\n",
        "# Make predictions on the test set\n",
        "y_pred = best_model.predict(X_test)\n",
        "\n",
        "# Calculate the accuracy score\n",
        "accuracy = accuracy_score(y_test, y_pred)\n",
        "print(\"Test Accuracy:\", accuracy)\n",
        "df_score = df_score.append({'model_desc': 'grid_search_multi_model', 'model_score': accuracy}, ignore_index=True)"
      ],
      "metadata": {
        "colab": {
          "base_uri": "https://localhost:8080/"
        },
        "id": "sAKRdMy3U9nR",
        "outputId": "5e50e225-43f3-4c3b-f031-68df13d9faff"
      },
      "execution_count": null,
      "outputs": [
        {
          "output_type": "stream",
          "name": "stdout",
          "text": [
            "Test Accuracy: 1.0\n"
          ]
        }
      ]
    },
    {
      "cell_type": "code",
      "source": [
        "# Print the best hyperparameters and the corresponding score\n",
        "print(\"Best hyperparameters:\", grid_search_multi_model.best_params_)\n",
        "print(\"Best Training score:\", grid_search_multi_model.best_score_)\n",
        "\n",
        "# Evaluate the performance of the best estimator on the test set for hold-out validation\n",
        "score = grid_search_multi_model.best_estimator_.score(X_test, y_test)\n",
        "print(\"Hold-out validation score:\", score)\n",
        "df_score = df_score.append({'model_desc': 'Multi Model grid_search-Hold_out_validation_Score', 'model_score': score}, ignore_index=True)\n",
        "\n",
        "# Use cross-validation to evaluate the performance of the best estimator on the entire dataset\n",
        "scores = cross_val_score(grid_search_multi_model.best_estimator_, X_2, y, cv=cv)\n",
        "print(\"Cross-validation scores:\", scores)"
      ],
      "metadata": {
        "colab": {
          "base_uri": "https://localhost:8080/"
        },
        "id": "jrd5DdYtXdrO",
        "outputId": "815d7438-6d33-4efe-b38a-7e49899c2460"
      },
      "execution_count": null,
      "outputs": [
        {
          "output_type": "stream",
          "name": "stdout",
          "text": [
            "Best hyperparameters: {'model': RandomForestClassifier(max_depth=18, random_state=42), 'model__max_depth': 18, 'model__n_estimators': 100}\n",
            "Best Training score: 0.9911105773383985\n",
            "Hold-out validation score: 1.0\n",
            "Cross-validation scores: [0.99751244 0.99378109 0.99751244]\n"
          ]
        }
      ]
    },
    {
      "cell_type": "markdown",
      "source": [
        "The reason Random Forest is working out better than XGBClassifier is because the number of rows is relatively less than the models."
      ],
      "metadata": {
        "id": "NF9u1tc_YPZs"
      }
    },
    {
      "cell_type": "code",
      "source": [
        "df_score = df_score.append({'model_desc': 'Multi Model grid_search-CrossValidationScore', 'model_score': scores}, ignore_index=True)\n",
        "df_score"
      ],
      "metadata": {
        "colab": {
          "base_uri": "https://localhost:8080/",
          "height": 425
        },
        "id": "g15zmqkqX4Ap",
        "outputId": "6eb3732e-b90e-4624-e599-16189b90dd61"
      },
      "execution_count": null,
      "outputs": [
        {
          "output_type": "execute_result",
          "data": {
            "text/plain": [
              "                                           model_desc  \\\n",
              "0                                simple_decision_tree   \n",
              "1                                               lasso   \n",
              "2                                     grid_search_dt1   \n",
              "3                          grid_search_dt1-Best score   \n",
              "4           grid_search_dt1-Hold-out validation score   \n",
              "5                                     cross_val_score   \n",
              "6                                  grid_search_dt_pca   \n",
              "7        grid_search_dt_pca-Hold_out_validation_Score   \n",
              "8             grid_search_dt_pca-CrossValidationScore   \n",
              "9                             grid_search_multi_model   \n",
              "10  Multi Model grid_search-Hold_out_validation_Score   \n",
              "11       Multi Model grid_search-CrossValidationScore   \n",
              "\n",
              "                                          model_score  \n",
              "0                                            0.991713  \n",
              "1                                            0.900112  \n",
              "2                                            0.979282  \n",
              "3                                            0.969785  \n",
              "4                                            0.979282  \n",
              "5   [0.9800995024875622, 0.9776119402985075, 0.966...  \n",
              "6                                            0.957182  \n",
              "7                                            0.957182  \n",
              "8   [0.9552238805970149, 0.9303482587064676, 0.950...  \n",
              "9                                                 1.0  \n",
              "10                                                1.0  \n",
              "11  [0.9975124378109452, 0.9937810945273632, 0.997...  "
            ],
            "text/html": [
              "\n",
              "  <div id=\"df-b3d54fa6-a080-4f76-9338-26a27770bfc1\">\n",
              "    <div class=\"colab-df-container\">\n",
              "      <div>\n",
              "<style scoped>\n",
              "    .dataframe tbody tr th:only-of-type {\n",
              "        vertical-align: middle;\n",
              "    }\n",
              "\n",
              "    .dataframe tbody tr th {\n",
              "        vertical-align: top;\n",
              "    }\n",
              "\n",
              "    .dataframe thead th {\n",
              "        text-align: right;\n",
              "    }\n",
              "</style>\n",
              "<table border=\"1\" class=\"dataframe\">\n",
              "  <thead>\n",
              "    <tr style=\"text-align: right;\">\n",
              "      <th></th>\n",
              "      <th>model_desc</th>\n",
              "      <th>model_score</th>\n",
              "    </tr>\n",
              "  </thead>\n",
              "  <tbody>\n",
              "    <tr>\n",
              "      <th>0</th>\n",
              "      <td>simple_decision_tree</td>\n",
              "      <td>0.991713</td>\n",
              "    </tr>\n",
              "    <tr>\n",
              "      <th>1</th>\n",
              "      <td>lasso</td>\n",
              "      <td>0.900112</td>\n",
              "    </tr>\n",
              "    <tr>\n",
              "      <th>2</th>\n",
              "      <td>grid_search_dt1</td>\n",
              "      <td>0.979282</td>\n",
              "    </tr>\n",
              "    <tr>\n",
              "      <th>3</th>\n",
              "      <td>grid_search_dt1-Best score</td>\n",
              "      <td>0.969785</td>\n",
              "    </tr>\n",
              "    <tr>\n",
              "      <th>4</th>\n",
              "      <td>grid_search_dt1-Hold-out validation score</td>\n",
              "      <td>0.979282</td>\n",
              "    </tr>\n",
              "    <tr>\n",
              "      <th>5</th>\n",
              "      <td>cross_val_score</td>\n",
              "      <td>[0.9800995024875622, 0.9776119402985075, 0.966...</td>\n",
              "    </tr>\n",
              "    <tr>\n",
              "      <th>6</th>\n",
              "      <td>grid_search_dt_pca</td>\n",
              "      <td>0.957182</td>\n",
              "    </tr>\n",
              "    <tr>\n",
              "      <th>7</th>\n",
              "      <td>grid_search_dt_pca-Hold_out_validation_Score</td>\n",
              "      <td>0.957182</td>\n",
              "    </tr>\n",
              "    <tr>\n",
              "      <th>8</th>\n",
              "      <td>grid_search_dt_pca-CrossValidationScore</td>\n",
              "      <td>[0.9552238805970149, 0.9303482587064676, 0.950...</td>\n",
              "    </tr>\n",
              "    <tr>\n",
              "      <th>9</th>\n",
              "      <td>grid_search_multi_model</td>\n",
              "      <td>1.0</td>\n",
              "    </tr>\n",
              "    <tr>\n",
              "      <th>10</th>\n",
              "      <td>Multi Model grid_search-Hold_out_validation_Score</td>\n",
              "      <td>1.0</td>\n",
              "    </tr>\n",
              "    <tr>\n",
              "      <th>11</th>\n",
              "      <td>Multi Model grid_search-CrossValidationScore</td>\n",
              "      <td>[0.9975124378109452, 0.9937810945273632, 0.997...</td>\n",
              "    </tr>\n",
              "  </tbody>\n",
              "</table>\n",
              "</div>\n",
              "      <button class=\"colab-df-convert\" onclick=\"convertToInteractive('df-b3d54fa6-a080-4f76-9338-26a27770bfc1')\"\n",
              "              title=\"Convert this dataframe to an interactive table.\"\n",
              "              style=\"display:none;\">\n",
              "        \n",
              "  <svg xmlns=\"http://www.w3.org/2000/svg\" height=\"24px\"viewBox=\"0 0 24 24\"\n",
              "       width=\"24px\">\n",
              "    <path d=\"M0 0h24v24H0V0z\" fill=\"none\"/>\n",
              "    <path d=\"M18.56 5.44l.94 2.06.94-2.06 2.06-.94-2.06-.94-.94-2.06-.94 2.06-2.06.94zm-11 1L8.5 8.5l.94-2.06 2.06-.94-2.06-.94L8.5 2.5l-.94 2.06-2.06.94zm10 10l.94 2.06.94-2.06 2.06-.94-2.06-.94-.94-2.06-.94 2.06-2.06.94z\"/><path d=\"M17.41 7.96l-1.37-1.37c-.4-.4-.92-.59-1.43-.59-.52 0-1.04.2-1.43.59L10.3 9.45l-7.72 7.72c-.78.78-.78 2.05 0 2.83L4 21.41c.39.39.9.59 1.41.59.51 0 1.02-.2 1.41-.59l7.78-7.78 2.81-2.81c.8-.78.8-2.07 0-2.86zM5.41 20L4 18.59l7.72-7.72 1.47 1.35L5.41 20z\"/>\n",
              "  </svg>\n",
              "      </button>\n",
              "      \n",
              "  <style>\n",
              "    .colab-df-container {\n",
              "      display:flex;\n",
              "      flex-wrap:wrap;\n",
              "      gap: 12px;\n",
              "    }\n",
              "\n",
              "    .colab-df-convert {\n",
              "      background-color: #E8F0FE;\n",
              "      border: none;\n",
              "      border-radius: 50%;\n",
              "      cursor: pointer;\n",
              "      display: none;\n",
              "      fill: #1967D2;\n",
              "      height: 32px;\n",
              "      padding: 0 0 0 0;\n",
              "      width: 32px;\n",
              "    }\n",
              "\n",
              "    .colab-df-convert:hover {\n",
              "      background-color: #E2EBFA;\n",
              "      box-shadow: 0px 1px 2px rgba(60, 64, 67, 0.3), 0px 1px 3px 1px rgba(60, 64, 67, 0.15);\n",
              "      fill: #174EA6;\n",
              "    }\n",
              "\n",
              "    [theme=dark] .colab-df-convert {\n",
              "      background-color: #3B4455;\n",
              "      fill: #D2E3FC;\n",
              "    }\n",
              "\n",
              "    [theme=dark] .colab-df-convert:hover {\n",
              "      background-color: #434B5C;\n",
              "      box-shadow: 0px 1px 3px 1px rgba(0, 0, 0, 0.15);\n",
              "      filter: drop-shadow(0px 1px 2px rgba(0, 0, 0, 0.3));\n",
              "      fill: #FFFFFF;\n",
              "    }\n",
              "  </style>\n",
              "\n",
              "      <script>\n",
              "        const buttonEl =\n",
              "          document.querySelector('#df-b3d54fa6-a080-4f76-9338-26a27770bfc1 button.colab-df-convert');\n",
              "        buttonEl.style.display =\n",
              "          google.colab.kernel.accessAllowed ? 'block' : 'none';\n",
              "\n",
              "        async function convertToInteractive(key) {\n",
              "          const element = document.querySelector('#df-b3d54fa6-a080-4f76-9338-26a27770bfc1');\n",
              "          const dataTable =\n",
              "            await google.colab.kernel.invokeFunction('convertToInteractive',\n",
              "                                                     [key], {});\n",
              "          if (!dataTable) return;\n",
              "\n",
              "          const docLinkHtml = 'Like what you see? Visit the ' +\n",
              "            '<a target=\"_blank\" href=https://colab.research.google.com/notebooks/data_table.ipynb>data table notebook</a>'\n",
              "            + ' to learn more about interactive tables.';\n",
              "          element.innerHTML = '';\n",
              "          dataTable['output_type'] = 'display_data';\n",
              "          await google.colab.output.renderOutput(dataTable, element);\n",
              "          const docLink = document.createElement('div');\n",
              "          docLink.innerHTML = docLinkHtml;\n",
              "          element.appendChild(docLink);\n",
              "        }\n",
              "      </script>\n",
              "    </div>\n",
              "  </div>\n",
              "  "
            ]
          },
          "metadata": {},
          "execution_count": 44
        }
      ]
    },
    {
      "cell_type": "code",
      "source": [
        "grid_search_multi_model.best_params_['model__n_estimators'], grid_search_multi_model.best_params_['model__max_depth'], grid_search_dt1.best_params_['feature_selector__k']"
      ],
      "metadata": {
        "colab": {
          "base_uri": "https://localhost:8080/"
        },
        "id": "3Y9QRJSoLIqP",
        "outputId": "90fb64ab-abb9-4b88-8ee8-9888dc20f883"
      },
      "execution_count": null,
      "outputs": [
        {
          "output_type": "execute_result",
          "data": {
            "text/plain": [
              "(100, 18, 38)"
            ]
          },
          "metadata": {},
          "execution_count": 45
        }
      ]
    },
    {
      "cell_type": "code",
      "source": [
        "# Define the pipeline\n",
        "pipe = Pipeline(steps=[\n",
        "    ('var_thresh', VarianceThreshold(threshold=0)),\n",
        "    ('feature_normalization', StandardScaler()),\n",
        "    (\"feature_selector\", SelectKBest()),\n",
        "    ('model', RandomForestClassifier(random_state=random_state_val))\n",
        "])\n",
        "\n",
        "\n",
        "# Define the hyperparameters for tuning for each model\n",
        "best_estimator_count = grid_search_multi_model.best_params_['model__n_estimators']\n",
        "best_max_depth = grid_search_multi_model.best_params_['model__max_depth']\n",
        "best_features_count = grid_search_dt1.best_params_['feature_selector__k']\n",
        "param_grids = [\n",
        "    {\n",
        "        'model__n_estimators': [best_estimator_count-15, best_estimator_count-5, best_estimator_count, best_estimator_count+5, best_estimator_count+15],\n",
        "        'model__max_depth': [best_max_depth-5, best_max_depth-4, best_max_depth-2, best_max_depth, best_max_depth+2],\n",
        "        'feature_selector__k': [best_features_count-20, best_features_count-10, best_features_count, best_features_count+10, best_features_count+10]\n",
        "    }\n",
        "]\n",
        "\n",
        "# Define the cross-validation method\n",
        "cv = KFold(n_splits=3, shuffle=True)\n",
        "\n",
        "# Create the GridSearchCV object for each model\n",
        "# Step 6: Perform grid search for hyperparameter tuning and cross-validation\n",
        "grid_search_random_forest = GridSearchCV(pipe, param_grid=param_grids, cv=cv, n_jobs=-1,scoring='accuracy', verbose=2)\n",
        "grid_search_random_forest.fit(X_train, y_train)"
      ],
      "metadata": {
        "colab": {
          "base_uri": "https://localhost:8080/",
          "height": 236
        },
        "id": "V_hJd7PMJPNE",
        "outputId": "62f4d277-4c83-403e-c130-a065820fc233"
      },
      "execution_count": null,
      "outputs": [
        {
          "output_type": "stream",
          "name": "stdout",
          "text": [
            "Fitting 3 folds for each of 125 candidates, totalling 375 fits\n"
          ]
        },
        {
          "output_type": "execute_result",
          "data": {
            "text/plain": [
              "GridSearchCV(cv=KFold(n_splits=3, random_state=None, shuffle=True),\n",
              "             estimator=Pipeline(steps=[('var_thresh',\n",
              "                                        VarianceThreshold(threshold=0)),\n",
              "                                       ('feature_normalization',\n",
              "                                        StandardScaler()),\n",
              "                                       ('feature_selector', SelectKBest()),\n",
              "                                       ('model',\n",
              "                                        RandomForestClassifier(random_state=42))]),\n",
              "             n_jobs=-1,\n",
              "             param_grid=[{'feature_selector__k': [18, 28, 38, 48, 48],\n",
              "                          'model__max_depth': [13, 14, 16, 18, 20],\n",
              "                          'model__n_estimators': [85, 95, 100, 105, 115]}],\n",
              "             scoring='accuracy', verbose=2)"
            ],
            "text/html": [
              "<style>#sk-container-id-4 {color: black;background-color: white;}#sk-container-id-4 pre{padding: 0;}#sk-container-id-4 div.sk-toggleable {background-color: white;}#sk-container-id-4 label.sk-toggleable__label {cursor: pointer;display: block;width: 100%;margin-bottom: 0;padding: 0.3em;box-sizing: border-box;text-align: center;}#sk-container-id-4 label.sk-toggleable__label-arrow:before {content: \"▸\";float: left;margin-right: 0.25em;color: #696969;}#sk-container-id-4 label.sk-toggleable__label-arrow:hover:before {color: black;}#sk-container-id-4 div.sk-estimator:hover label.sk-toggleable__label-arrow:before {color: black;}#sk-container-id-4 div.sk-toggleable__content {max-height: 0;max-width: 0;overflow: hidden;text-align: left;background-color: #f0f8ff;}#sk-container-id-4 div.sk-toggleable__content pre {margin: 0.2em;color: black;border-radius: 0.25em;background-color: #f0f8ff;}#sk-container-id-4 input.sk-toggleable__control:checked~div.sk-toggleable__content {max-height: 200px;max-width: 100%;overflow: auto;}#sk-container-id-4 input.sk-toggleable__control:checked~label.sk-toggleable__label-arrow:before {content: \"▾\";}#sk-container-id-4 div.sk-estimator input.sk-toggleable__control:checked~label.sk-toggleable__label {background-color: #d4ebff;}#sk-container-id-4 div.sk-label input.sk-toggleable__control:checked~label.sk-toggleable__label {background-color: #d4ebff;}#sk-container-id-4 input.sk-hidden--visually {border: 0;clip: rect(1px 1px 1px 1px);clip: rect(1px, 1px, 1px, 1px);height: 1px;margin: -1px;overflow: hidden;padding: 0;position: absolute;width: 1px;}#sk-container-id-4 div.sk-estimator {font-family: monospace;background-color: #f0f8ff;border: 1px dotted black;border-radius: 0.25em;box-sizing: border-box;margin-bottom: 0.5em;}#sk-container-id-4 div.sk-estimator:hover {background-color: #d4ebff;}#sk-container-id-4 div.sk-parallel-item::after {content: \"\";width: 100%;border-bottom: 1px solid gray;flex-grow: 1;}#sk-container-id-4 div.sk-label:hover label.sk-toggleable__label {background-color: #d4ebff;}#sk-container-id-4 div.sk-serial::before {content: \"\";position: absolute;border-left: 1px solid gray;box-sizing: border-box;top: 0;bottom: 0;left: 50%;z-index: 0;}#sk-container-id-4 div.sk-serial {display: flex;flex-direction: column;align-items: center;background-color: white;padding-right: 0.2em;padding-left: 0.2em;position: relative;}#sk-container-id-4 div.sk-item {position: relative;z-index: 1;}#sk-container-id-4 div.sk-parallel {display: flex;align-items: stretch;justify-content: center;background-color: white;position: relative;}#sk-container-id-4 div.sk-item::before, #sk-container-id-4 div.sk-parallel-item::before {content: \"\";position: absolute;border-left: 1px solid gray;box-sizing: border-box;top: 0;bottom: 0;left: 50%;z-index: -1;}#sk-container-id-4 div.sk-parallel-item {display: flex;flex-direction: column;z-index: 1;position: relative;background-color: white;}#sk-container-id-4 div.sk-parallel-item:first-child::after {align-self: flex-end;width: 50%;}#sk-container-id-4 div.sk-parallel-item:last-child::after {align-self: flex-start;width: 50%;}#sk-container-id-4 div.sk-parallel-item:only-child::after {width: 0;}#sk-container-id-4 div.sk-dashed-wrapped {border: 1px dashed gray;margin: 0 0.4em 0.5em 0.4em;box-sizing: border-box;padding-bottom: 0.4em;background-color: white;}#sk-container-id-4 div.sk-label label {font-family: monospace;font-weight: bold;display: inline-block;line-height: 1.2em;}#sk-container-id-4 div.sk-label-container {text-align: center;}#sk-container-id-4 div.sk-container {/* jupyter's `normalize.less` sets `[hidden] { display: none; }` but bootstrap.min.css set `[hidden] { display: none !important; }` so we also need the `!important` here to be able to override the default hidden behavior on the sphinx rendered scikit-learn.org. See: https://github.com/scikit-learn/scikit-learn/issues/21755 */display: inline-block !important;position: relative;}#sk-container-id-4 div.sk-text-repr-fallback {display: none;}</style><div id=\"sk-container-id-4\" class=\"sk-top-container\"><div class=\"sk-text-repr-fallback\"><pre>GridSearchCV(cv=KFold(n_splits=3, random_state=None, shuffle=True),\n",
              "             estimator=Pipeline(steps=[(&#x27;var_thresh&#x27;,\n",
              "                                        VarianceThreshold(threshold=0)),\n",
              "                                       (&#x27;feature_normalization&#x27;,\n",
              "                                        StandardScaler()),\n",
              "                                       (&#x27;feature_selector&#x27;, SelectKBest()),\n",
              "                                       (&#x27;model&#x27;,\n",
              "                                        RandomForestClassifier(random_state=42))]),\n",
              "             n_jobs=-1,\n",
              "             param_grid=[{&#x27;feature_selector__k&#x27;: [18, 28, 38, 48, 48],\n",
              "                          &#x27;model__max_depth&#x27;: [13, 14, 16, 18, 20],\n",
              "                          &#x27;model__n_estimators&#x27;: [85, 95, 100, 105, 115]}],\n",
              "             scoring=&#x27;accuracy&#x27;, verbose=2)</pre><b>In a Jupyter environment, please rerun this cell to show the HTML representation or trust the notebook. <br />On GitHub, the HTML representation is unable to render, please try loading this page with nbviewer.org.</b></div><div class=\"sk-container\" hidden><div class=\"sk-item sk-dashed-wrapped\"><div class=\"sk-label-container\"><div class=\"sk-label sk-toggleable\"><input class=\"sk-toggleable__control sk-hidden--visually\" id=\"sk-estimator-id-18\" type=\"checkbox\" ><label for=\"sk-estimator-id-18\" class=\"sk-toggleable__label sk-toggleable__label-arrow\">GridSearchCV</label><div class=\"sk-toggleable__content\"><pre>GridSearchCV(cv=KFold(n_splits=3, random_state=None, shuffle=True),\n",
              "             estimator=Pipeline(steps=[(&#x27;var_thresh&#x27;,\n",
              "                                        VarianceThreshold(threshold=0)),\n",
              "                                       (&#x27;feature_normalization&#x27;,\n",
              "                                        StandardScaler()),\n",
              "                                       (&#x27;feature_selector&#x27;, SelectKBest()),\n",
              "                                       (&#x27;model&#x27;,\n",
              "                                        RandomForestClassifier(random_state=42))]),\n",
              "             n_jobs=-1,\n",
              "             param_grid=[{&#x27;feature_selector__k&#x27;: [18, 28, 38, 48, 48],\n",
              "                          &#x27;model__max_depth&#x27;: [13, 14, 16, 18, 20],\n",
              "                          &#x27;model__n_estimators&#x27;: [85, 95, 100, 105, 115]}],\n",
              "             scoring=&#x27;accuracy&#x27;, verbose=2)</pre></div></div></div><div class=\"sk-parallel\"><div class=\"sk-parallel-item\"><div class=\"sk-item\"><div class=\"sk-label-container\"><div class=\"sk-label sk-toggleable\"><input class=\"sk-toggleable__control sk-hidden--visually\" id=\"sk-estimator-id-19\" type=\"checkbox\" ><label for=\"sk-estimator-id-19\" class=\"sk-toggleable__label sk-toggleable__label-arrow\">estimator: Pipeline</label><div class=\"sk-toggleable__content\"><pre>Pipeline(steps=[(&#x27;var_thresh&#x27;, VarianceThreshold(threshold=0)),\n",
              "                (&#x27;feature_normalization&#x27;, StandardScaler()),\n",
              "                (&#x27;feature_selector&#x27;, SelectKBest()),\n",
              "                (&#x27;model&#x27;, RandomForestClassifier(random_state=42))])</pre></div></div></div><div class=\"sk-serial\"><div class=\"sk-item\"><div class=\"sk-serial\"><div class=\"sk-item\"><div class=\"sk-estimator sk-toggleable\"><input class=\"sk-toggleable__control sk-hidden--visually\" id=\"sk-estimator-id-20\" type=\"checkbox\" ><label for=\"sk-estimator-id-20\" class=\"sk-toggleable__label sk-toggleable__label-arrow\">VarianceThreshold</label><div class=\"sk-toggleable__content\"><pre>VarianceThreshold(threshold=0)</pre></div></div></div><div class=\"sk-item\"><div class=\"sk-estimator sk-toggleable\"><input class=\"sk-toggleable__control sk-hidden--visually\" id=\"sk-estimator-id-21\" type=\"checkbox\" ><label for=\"sk-estimator-id-21\" class=\"sk-toggleable__label sk-toggleable__label-arrow\">StandardScaler</label><div class=\"sk-toggleable__content\"><pre>StandardScaler()</pre></div></div></div><div class=\"sk-item\"><div class=\"sk-estimator sk-toggleable\"><input class=\"sk-toggleable__control sk-hidden--visually\" id=\"sk-estimator-id-22\" type=\"checkbox\" ><label for=\"sk-estimator-id-22\" class=\"sk-toggleable__label sk-toggleable__label-arrow\">SelectKBest</label><div class=\"sk-toggleable__content\"><pre>SelectKBest()</pre></div></div></div><div class=\"sk-item\"><div class=\"sk-estimator sk-toggleable\"><input class=\"sk-toggleable__control sk-hidden--visually\" id=\"sk-estimator-id-23\" type=\"checkbox\" ><label for=\"sk-estimator-id-23\" class=\"sk-toggleable__label sk-toggleable__label-arrow\">RandomForestClassifier</label><div class=\"sk-toggleable__content\"><pre>RandomForestClassifier(random_state=42)</pre></div></div></div></div></div></div></div></div></div></div></div></div>"
            ]
          },
          "metadata": {},
          "execution_count": 46
        }
      ]
    },
    {
      "cell_type": "code",
      "source": [
        "# Get the best estimator\n",
        "best_model = grid_search_random_forest.best_estimator_\n",
        "\n",
        "# Make predictions on the test set\n",
        "y_pred = best_model.predict(X_test)\n",
        "\n",
        "# Calculate the accuracy score\n",
        "accuracy = accuracy_score(y_test, y_pred)\n",
        "print(\"Test Accuracy:\", accuracy)\n",
        "df_score = df_score.append({'model_desc': 'grid_search_random_forest', 'model_score': accuracy}, ignore_index=True)"
      ],
      "metadata": {
        "colab": {
          "base_uri": "https://localhost:8080/"
        },
        "id": "3-eC6nCtL3in",
        "outputId": "4e9087de-5375-4455-b72d-25086cd47eaf"
      },
      "execution_count": null,
      "outputs": [
        {
          "output_type": "stream",
          "name": "stdout",
          "text": [
            "Test Accuracy: 1.0\n"
          ]
        }
      ]
    },
    {
      "cell_type": "code",
      "source": [
        "# Print the best hyperparameters and the corresponding score\n",
        "print(\"Best hyperparameters:\", grid_search_random_forest.best_params_)\n",
        "print(\"Best Training score:\", grid_search_random_forest.best_score_)\n",
        "\n",
        "# Evaluate the performance of the best estimator on the test set for hold-out validation\n",
        "score = grid_search_random_forest.best_estimator_.score(X_test, y_test)\n",
        "print(\"Hold-out validation score:\", score)\n",
        "df_score = df_score.append({'model_desc': 'grid_search_random_forest-Hold_out_validation_Score', 'model_score': score}, ignore_index=True)\n",
        "\n",
        "# Use cross-validation to evaluate the performance of the best estimator on the entire dataset\n",
        "scores = cross_val_score(grid_search_random_forest.best_estimator_, X_2, y, cv=cv)\n",
        "print(\"Cross-validation scores:\", scores)\n",
        "df_score = df_score.append({'model_desc': 'grid_search_random_forest-CrossValidationScore', 'model_score': scores}, ignore_index=True)"
      ],
      "metadata": {
        "colab": {
          "base_uri": "https://localhost:8080/"
        },
        "id": "Slm42XJ7L_-Z",
        "outputId": "c8b3af95-0801-4fdb-cb42-d8a640f96f14"
      },
      "execution_count": null,
      "outputs": [
        {
          "output_type": "stream",
          "name": "stdout",
          "text": [
            "Best hyperparameters: {'feature_selector__k': 38, 'model__max_depth': 14, 'model__n_estimators': 85}\n",
            "Best Training score: 0.9928909902677784\n",
            "Hold-out validation score: 1.0\n",
            "Cross-validation scores: [0.99626866 0.99378109 0.99875622]\n"
          ]
        }
      ]
    },
    {
      "cell_type": "code",
      "source": [
        "grid_search_random_forest.best_params_['model__max_depth'], grid_search_random_forest.best_params_['model__n_estimators'], grid_search_random_forest.best_params_['feature_selector__k']"
      ],
      "metadata": {
        "colab": {
          "base_uri": "https://localhost:8080/"
        },
        "id": "EA46rnyvMcv8",
        "outputId": "cad11f53-75da-4d68-f13f-01942ac454f0"
      },
      "execution_count": null,
      "outputs": [
        {
          "output_type": "execute_result",
          "data": {
            "text/plain": [
              "(14, 85, 38)"
            ]
          },
          "metadata": {},
          "execution_count": 49
        }
      ]
    },
    {
      "cell_type": "code",
      "source": [
        "final_pipe = Pipeline(steps=[\n",
        "    ('var_thresh', VarianceThreshold(threshold=0)),\n",
        "    ('feature_normalization', StandardScaler()),\n",
        "    (\"feature_selector\", SelectKBest(k=grid_search_random_forest.best_params_['feature_selector__k'])),\n",
        "    ('model', RandomForestClassifier(n_estimators=grid_search_random_forest.best_params_['model__n_estimators'], max_depth=grid_search_random_forest.best_params_['model__max_depth'], random_state=random_state_val))\n",
        "])\n",
        "\n",
        "final_pipe.fit(X_2, y)"
      ],
      "metadata": {
        "colab": {
          "base_uri": "https://localhost:8080/",
          "height": 192
        },
        "id": "J2CQsZVuVwpx",
        "outputId": "97d23af2-bb05-4618-c2e5-dafbe4923a2c"
      },
      "execution_count": null,
      "outputs": [
        {
          "output_type": "execute_result",
          "data": {
            "text/plain": [
              "Pipeline(steps=[('var_thresh', VarianceThreshold(threshold=0)),\n",
              "                ('feature_normalization', StandardScaler()),\n",
              "                ('feature_selector', SelectKBest(k=38)),\n",
              "                ('model',\n",
              "                 RandomForestClassifier(max_depth=14, n_estimators=85,\n",
              "                                        random_state=42))])"
            ],
            "text/html": [
              "<style>#sk-container-id-5 {color: black;background-color: white;}#sk-container-id-5 pre{padding: 0;}#sk-container-id-5 div.sk-toggleable {background-color: white;}#sk-container-id-5 label.sk-toggleable__label {cursor: pointer;display: block;width: 100%;margin-bottom: 0;padding: 0.3em;box-sizing: border-box;text-align: center;}#sk-container-id-5 label.sk-toggleable__label-arrow:before {content: \"▸\";float: left;margin-right: 0.25em;color: #696969;}#sk-container-id-5 label.sk-toggleable__label-arrow:hover:before {color: black;}#sk-container-id-5 div.sk-estimator:hover label.sk-toggleable__label-arrow:before {color: black;}#sk-container-id-5 div.sk-toggleable__content {max-height: 0;max-width: 0;overflow: hidden;text-align: left;background-color: #f0f8ff;}#sk-container-id-5 div.sk-toggleable__content pre {margin: 0.2em;color: black;border-radius: 0.25em;background-color: #f0f8ff;}#sk-container-id-5 input.sk-toggleable__control:checked~div.sk-toggleable__content {max-height: 200px;max-width: 100%;overflow: auto;}#sk-container-id-5 input.sk-toggleable__control:checked~label.sk-toggleable__label-arrow:before {content: \"▾\";}#sk-container-id-5 div.sk-estimator input.sk-toggleable__control:checked~label.sk-toggleable__label {background-color: #d4ebff;}#sk-container-id-5 div.sk-label input.sk-toggleable__control:checked~label.sk-toggleable__label {background-color: #d4ebff;}#sk-container-id-5 input.sk-hidden--visually {border: 0;clip: rect(1px 1px 1px 1px);clip: rect(1px, 1px, 1px, 1px);height: 1px;margin: -1px;overflow: hidden;padding: 0;position: absolute;width: 1px;}#sk-container-id-5 div.sk-estimator {font-family: monospace;background-color: #f0f8ff;border: 1px dotted black;border-radius: 0.25em;box-sizing: border-box;margin-bottom: 0.5em;}#sk-container-id-5 div.sk-estimator:hover {background-color: #d4ebff;}#sk-container-id-5 div.sk-parallel-item::after {content: \"\";width: 100%;border-bottom: 1px solid gray;flex-grow: 1;}#sk-container-id-5 div.sk-label:hover label.sk-toggleable__label {background-color: #d4ebff;}#sk-container-id-5 div.sk-serial::before {content: \"\";position: absolute;border-left: 1px solid gray;box-sizing: border-box;top: 0;bottom: 0;left: 50%;z-index: 0;}#sk-container-id-5 div.sk-serial {display: flex;flex-direction: column;align-items: center;background-color: white;padding-right: 0.2em;padding-left: 0.2em;position: relative;}#sk-container-id-5 div.sk-item {position: relative;z-index: 1;}#sk-container-id-5 div.sk-parallel {display: flex;align-items: stretch;justify-content: center;background-color: white;position: relative;}#sk-container-id-5 div.sk-item::before, #sk-container-id-5 div.sk-parallel-item::before {content: \"\";position: absolute;border-left: 1px solid gray;box-sizing: border-box;top: 0;bottom: 0;left: 50%;z-index: -1;}#sk-container-id-5 div.sk-parallel-item {display: flex;flex-direction: column;z-index: 1;position: relative;background-color: white;}#sk-container-id-5 div.sk-parallel-item:first-child::after {align-self: flex-end;width: 50%;}#sk-container-id-5 div.sk-parallel-item:last-child::after {align-self: flex-start;width: 50%;}#sk-container-id-5 div.sk-parallel-item:only-child::after {width: 0;}#sk-container-id-5 div.sk-dashed-wrapped {border: 1px dashed gray;margin: 0 0.4em 0.5em 0.4em;box-sizing: border-box;padding-bottom: 0.4em;background-color: white;}#sk-container-id-5 div.sk-label label {font-family: monospace;font-weight: bold;display: inline-block;line-height: 1.2em;}#sk-container-id-5 div.sk-label-container {text-align: center;}#sk-container-id-5 div.sk-container {/* jupyter's `normalize.less` sets `[hidden] { display: none; }` but bootstrap.min.css set `[hidden] { display: none !important; }` so we also need the `!important` here to be able to override the default hidden behavior on the sphinx rendered scikit-learn.org. See: https://github.com/scikit-learn/scikit-learn/issues/21755 */display: inline-block !important;position: relative;}#sk-container-id-5 div.sk-text-repr-fallback {display: none;}</style><div id=\"sk-container-id-5\" class=\"sk-top-container\"><div class=\"sk-text-repr-fallback\"><pre>Pipeline(steps=[(&#x27;var_thresh&#x27;, VarianceThreshold(threshold=0)),\n",
              "                (&#x27;feature_normalization&#x27;, StandardScaler()),\n",
              "                (&#x27;feature_selector&#x27;, SelectKBest(k=38)),\n",
              "                (&#x27;model&#x27;,\n",
              "                 RandomForestClassifier(max_depth=14, n_estimators=85,\n",
              "                                        random_state=42))])</pre><b>In a Jupyter environment, please rerun this cell to show the HTML representation or trust the notebook. <br />On GitHub, the HTML representation is unable to render, please try loading this page with nbviewer.org.</b></div><div class=\"sk-container\" hidden><div class=\"sk-item sk-dashed-wrapped\"><div class=\"sk-label-container\"><div class=\"sk-label sk-toggleable\"><input class=\"sk-toggleable__control sk-hidden--visually\" id=\"sk-estimator-id-24\" type=\"checkbox\" ><label for=\"sk-estimator-id-24\" class=\"sk-toggleable__label sk-toggleable__label-arrow\">Pipeline</label><div class=\"sk-toggleable__content\"><pre>Pipeline(steps=[(&#x27;var_thresh&#x27;, VarianceThreshold(threshold=0)),\n",
              "                (&#x27;feature_normalization&#x27;, StandardScaler()),\n",
              "                (&#x27;feature_selector&#x27;, SelectKBest(k=38)),\n",
              "                (&#x27;model&#x27;,\n",
              "                 RandomForestClassifier(max_depth=14, n_estimators=85,\n",
              "                                        random_state=42))])</pre></div></div></div><div class=\"sk-serial\"><div class=\"sk-item\"><div class=\"sk-estimator sk-toggleable\"><input class=\"sk-toggleable__control sk-hidden--visually\" id=\"sk-estimator-id-25\" type=\"checkbox\" ><label for=\"sk-estimator-id-25\" class=\"sk-toggleable__label sk-toggleable__label-arrow\">VarianceThreshold</label><div class=\"sk-toggleable__content\"><pre>VarianceThreshold(threshold=0)</pre></div></div></div><div class=\"sk-item\"><div class=\"sk-estimator sk-toggleable\"><input class=\"sk-toggleable__control sk-hidden--visually\" id=\"sk-estimator-id-26\" type=\"checkbox\" ><label for=\"sk-estimator-id-26\" class=\"sk-toggleable__label sk-toggleable__label-arrow\">StandardScaler</label><div class=\"sk-toggleable__content\"><pre>StandardScaler()</pre></div></div></div><div class=\"sk-item\"><div class=\"sk-estimator sk-toggleable\"><input class=\"sk-toggleable__control sk-hidden--visually\" id=\"sk-estimator-id-27\" type=\"checkbox\" ><label for=\"sk-estimator-id-27\" class=\"sk-toggleable__label sk-toggleable__label-arrow\">SelectKBest</label><div class=\"sk-toggleable__content\"><pre>SelectKBest(k=38)</pre></div></div></div><div class=\"sk-item\"><div class=\"sk-estimator sk-toggleable\"><input class=\"sk-toggleable__control sk-hidden--visually\" id=\"sk-estimator-id-28\" type=\"checkbox\" ><label for=\"sk-estimator-id-28\" class=\"sk-toggleable__label sk-toggleable__label-arrow\">RandomForestClassifier</label><div class=\"sk-toggleable__content\"><pre>RandomForestClassifier(max_depth=14, n_estimators=85, random_state=42)</pre></div></div></div></div></div></div></div>"
            ]
          },
          "metadata": {},
          "execution_count": 50
        }
      ]
    },
    {
      "cell_type": "code",
      "source": [
        "# Make predictions on the test set\n",
        "y_pred = final_pipe.predict(X_test)\n",
        "\n",
        "# Calculate the accuracy score\n",
        "accuracy = accuracy_score(y_test, y_pred)\n",
        "print(\"Test Accuracy:\", accuracy)\n",
        "# df_score = df_score.append({'model_desc': 'grid_search_random_forest', 'model_score': accuracy}, ignore_index=True)"
      ],
      "metadata": {
        "colab": {
          "base_uri": "https://localhost:8080/"
        },
        "id": "FoxMyvgIc-6A",
        "outputId": "91ac0296-a59e-4f71-a6dd-6c59b7816989"
      },
      "execution_count": null,
      "outputs": [
        {
          "output_type": "stream",
          "name": "stdout",
          "text": [
            "Test Accuracy: 1.0\n"
          ]
        }
      ]
    },
    {
      "cell_type": "code",
      "source": [
        "y_pred_full = final_pipe.predict(X_2)\n",
        "y_pred = final_pipe.predict(X_test)\n",
        "# Calculate the accuracy score\n",
        "accuracy_full = accuracy_score(y, y_pred_full)\n",
        "accuracy_test = accuracy_score(y_test, y_pred)\n",
        "print(\"Test Accuracy:\", accuracy_test)\n",
        "print(\"Full Accuracy:\", accuracy_full)"
      ],
      "metadata": {
        "colab": {
          "base_uri": "https://localhost:8080/"
        },
        "id": "hPcMePsTc-yM",
        "outputId": "ea40a9e1-9738-4d61-a087-8ae00fcffacd"
      },
      "execution_count": null,
      "outputs": [
        {
          "output_type": "stream",
          "name": "stdout",
          "text": [
            "Test Accuracy: 1.0\n",
            "Full Accuracy: 0.9995854063018242\n"
          ]
        }
      ]
    },
    {
      "cell_type": "code",
      "source": [
        "import joblib\n",
        "\n",
        "# Save the model to a file\n",
        "joblib.dump(final_pipe, 'SAT_model.pkl')\n"
      ],
      "metadata": {
        "colab": {
          "base_uri": "https://localhost:8080/"
        },
        "id": "T42GGrAiTnsT",
        "outputId": "8193c0f1-2c9a-441e-f2fe-d774ff777e04"
      },
      "execution_count": null,
      "outputs": [
        {
          "output_type": "execute_result",
          "data": {
            "text/plain": [
              "['SAT_model.pkl']"
            ]
          },
          "metadata": {},
          "execution_count": 73
        }
      ]
    },
    {
      "cell_type": "code",
      "source": [
        "final_pipe.score(X_test, y_test)"
      ],
      "metadata": {
        "colab": {
          "base_uri": "https://localhost:8080/"
        },
        "id": "bg9V_i_BaV-A",
        "outputId": "f517e652-2e0f-4ebb-ab05-7ddddf76148d"
      },
      "execution_count": null,
      "outputs": [
        {
          "output_type": "execute_result",
          "data": {
            "text/plain": [
              "1.0"
            ]
          },
          "metadata": {},
          "execution_count": 74
        }
      ]
    }
  ]
}